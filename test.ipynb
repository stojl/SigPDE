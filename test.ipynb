{
 "cells": [
  {
   "cell_type": "code",
   "execution_count": 1,
   "metadata": {},
   "outputs": [],
   "source": [
    "import sigpde.torch as sig\n",
    "import torch\n",
    "import math\n",
    "device = torch.device('cuda:0')"
   ]
  },
  {
   "cell_type": "code",
   "execution_count": 2,
   "metadata": {},
   "outputs": [],
   "source": [
    "def sample(n, rho=1, scale=8, T=0.5, start=0, stop=1, dt=0.005, randgrid = 30, thin=0, device=torch.device('cuda:0'), dtype=torch.float64):\n",
    "        l = math.ceil((stop - start) / dt) + 1\n",
    "        \n",
    "        ts = torch.linspace(0, 1, l, device=device, dtype=dtype)\n",
    "        \n",
    "        b1 = math.sqrt(2 / T) * torch.sin(4 * torch.pi * ts / T)\n",
    "        b2 = math.sqrt(2 / T) * torch.cos(6 * torch.pi * ts / T)\n",
    "        c = torch.randn((n, 3), dtype=dtype, device=device)\n",
    "       \n",
    "        b1 = (b1 * c[:, 1].view(n, 1))\n",
    "        b2 = (b2 * c[:, 2].view(n, 1))\n",
    "        \n",
    "        x = (b1 + b2 + c[:, 0].view(n, 1))\n",
    "       \n",
    "        c1 = (0.75 - 0.25) * torch.rand((n, 2), device=device, dtype=dtype) + 0.25\n",
    "        \n",
    "        i1 = (ts - c1[:,0].view(n, 1, 1)).view(n, -1)**2\n",
    "        i2 = (ts - c1[:,1].view(n, 1, 1)).view(n, -1)**2\n",
    "        \n",
    "        zero_column = torch.zeros(n, 1, device=device, dtype=dtype)\n",
    "        x1 = torch.cat((zero_column, (x[:,range(l-1)] * dt).cumsum(dim=1)), dim=1) * i2\n",
    "        x2 = torch.cat((zero_column, (x[:,range(l-1)] * i1[:,range(l-1)] * dt).cumsum(dim=1)), dim=1)\n",
    "        \n",
    "        y = rho * (x2 - x1) * scale\n",
    "        y = y\n",
    "        x = x\n",
    "        \n",
    "        return x.view(n, l, 1)[:, range(0, l, 2**thin),:], y.view(n, l, 1)[:, range(0, l, 2**thin),:]"
   ]
  },
  {
   "cell_type": "code",
   "execution_count": 3,
   "metadata": {},
   "outputs": [],
   "source": [
    "kernel = sig.SigPDE(sig.kernels.LinearKernel(), 3)\n",
    "kernel2 = sig.RobustSigPDE(sig.kernels.LinearKernel(), 3)"
   ]
  },
  {
   "cell_type": "code",
   "execution_count": 4,
   "metadata": {},
   "outputs": [],
   "source": [
    "def generate(batch_size, length, dimension, device = torch.device('cpu')):\n",
    "  random_walks = torch.randn(batch_size, length, dimension, dtype = torch.double, device = device) / math.sqrt(length)\n",
    "  start = torch.zeros([batch_size, 1, dimension], device=device, dtype=torch.double)\n",
    "  random_walks = torch.cat((start, random_walks), dim=1)\n",
    "  random_walks = torch.cumsum(random_walks, dim=1)\n",
    "  return random_walks\n",
    "\n",
    "def add_time(x, start=0, stop=1):\n",
    "    device = x.device\n",
    "    dtype = x.dtype\n",
    "\n",
    "    l = x.shape[1]\n",
    "\n",
    "    t = torch.linspace(start, stop, l, device=device, dtype=dtype)\n",
    "    t = t.unsqueeze(0).unsqueeze(-1)\n",
    "    return torch.cat((x, t.expand(x.shape[0], x.shape[1], 1)), dim=-1)\n",
    "\n",
    "def std_norm(x):\n",
    "    return 2 - 1 / (1 + x.log())\n",
    "\n",
    "def time_norm(x, time=True):\n",
    "    if time:\n",
    "        x = add_time(x)\n",
    "    return x / x.pow(2).sum(dim=2).sqrt().max(dim=1).values.view(x.shape[0], 1, 1)"
   ]
  },
  {
   "cell_type": "code",
   "execution_count": 22,
   "metadata": {},
   "outputs": [],
   "source": [
    "x = generate(30, 512, 50, device=device)\n",
    "y = generate(30, 512, 50, device=device)\n",
    "z, w = sample(30)\n",
    "z = time_norm(z)\n",
    "w = time_norm(w)"
   ]
  },
  {
   "cell_type": "code",
   "execution_count": 26,
   "metadata": {},
   "outputs": [
    {
     "data": {
      "text/plain": [
       "tensor([[18.3334,  1.4010,  0.4858,  0.7846,  0.8163,  1.2738,  1.1459,  0.7409,\n",
       "          1.6848,  0.9033,  1.2657,  0.9222,  0.8955,  0.6676,  0.8486,  1.2017,\n",
       "          0.8765,  0.5164,  0.2662,  0.8098,  0.9262,  1.1080,  0.6455,  1.0314,\n",
       "          1.1974,  0.9531,  0.9834,  0.5894,  0.5482,  1.5845],\n",
       "        [ 1.4010, 10.2463,  0.7121,  0.5283,  1.2533,  0.7406,  0.8341,  1.2035,\n",
       "          1.1352,  1.4728,  1.2093,  1.1496,  0.9734,  0.5533,  1.1498,  1.3396,\n",
       "          0.7594,  0.9307,  0.9004,  1.4961,  0.7981,  1.2657,  0.7407,  0.9759,\n",
       "          1.0922,  0.4141,  1.3639,  0.7858,  0.6421,  0.7769],\n",
       "        [ 0.4858,  0.7121,  8.2434,  1.4694,  1.2537,  1.3057,  1.3570,  1.2500,\n",
       "          0.9336,  1.1269,  0.9046,  0.7820,  1.2033,  0.9409,  1.0051,  1.6239,\n",
       "          1.2043,  0.9183,  1.2218,  1.4642,  1.1458,  1.1853,  1.5663,  0.3853,\n",
       "          0.7628,  1.2174,  0.9155,  1.3894,  1.4826,  0.9912],\n",
       "        [ 0.7846,  0.5283,  1.4694, 16.6253,  0.1763,  1.0711,  1.7845,  1.0807,\n",
       "          1.4346,  0.7063,  1.0186,  0.8501,  1.0188,  0.9120,  0.9987,  0.7469,\n",
       "          1.2819,  0.4881,  1.5812,  1.0234,  1.4061,  1.0842,  1.0618,  0.9333,\n",
       "          0.7056,  1.5828,  1.2041,  1.5498,  1.5654,  1.3948],\n",
       "        [ 0.8163,  1.2533,  1.2537,  0.1763, 17.7274,  1.0304,  0.4975,  1.5565,\n",
       "          1.1100,  1.6378,  1.1710,  1.3922,  1.1552,  1.8199,  1.3873,  2.1312,\n",
       "          0.9583,  1.1459,  0.8075,  1.1839,  0.6836,  0.7424,  1.0157,  0.6694,\n",
       "          1.0518,  1.0079,  1.4185,  1.7512,  1.1690,  0.2910],\n",
       "        [ 1.2738,  0.7406,  1.3057,  1.0711,  1.0304, 10.8164,  1.4458,  1.5077,\n",
       "          1.3144,  0.9007,  1.4673,  1.0657,  1.1641,  0.9013,  0.6808,  1.2151,\n",
       "          1.0413,  1.1456,  1.0398,  0.9656,  1.7579,  0.9705,  0.8280,  0.7862,\n",
       "          1.4867,  0.8583,  0.7314,  1.1753,  0.8410,  1.7864],\n",
       "        [ 1.1459,  0.8341,  1.3570,  1.7845,  0.4975,  1.4458, 12.1060,  1.1350,\n",
       "          0.5790,  0.5213,  1.0196,  1.5054,  0.9332,  1.2542,  0.7578,  1.0063,\n",
       "          1.5579,  0.6542,  2.5344,  1.0041,  1.1625,  1.2634,  1.2814,  0.9735,\n",
       "          0.8284,  1.2684,  0.6134,  0.2648,  0.5763,  1.3424],\n",
       "        [ 0.7409,  1.2035,  1.2500,  1.0807,  1.5565,  1.5077,  1.1350, 13.2394,\n",
       "          0.6533,  2.3239,  1.2824,  0.8594,  1.2368,  1.7560,  1.1229,  1.1079,\n",
       "          0.7427,  0.8836,  1.2740,  1.3147,  1.0922,  1.4680,  1.3351,  0.6569,\n",
       "          1.0380,  0.8867,  0.5790,  1.2159,  1.1334,  0.4185],\n",
       "        [ 1.6848,  1.1352,  0.9336,  1.4346,  1.1100,  1.3144,  0.5790,  0.6533,\n",
       "          9.4003,  0.4550,  0.9833,  1.1322,  0.5006,  0.5948,  0.9753,  1.0207,\n",
       "          1.1629,  0.9140,  0.4563,  0.8649,  1.2900,  1.0969,  0.8151,  1.5752,\n",
       "          0.9914,  1.3013,  1.5746,  2.3943,  1.0460,  1.5412],\n",
       "        [ 0.9033,  1.4728,  1.1269,  0.7063,  1.6378,  0.9007,  0.5213,  2.3239,\n",
       "          0.4550, 14.2477,  1.1069,  0.9865,  0.6783,  0.9227,  1.7188,  1.8072,\n",
       "          0.9212,  1.5464,  0.9959,  0.7273,  0.8996,  1.6101,  1.0119,  0.2053,\n",
       "          0.9938,  0.7437,  0.9743,  0.6970,  1.1156,  0.8318],\n",
       "        [ 1.2657,  1.2093,  0.9046,  1.0186,  1.1710,  1.4673,  1.0196,  1.2824,\n",
       "          0.9833,  1.1069,  7.0772,  0.7034,  1.6999,  1.4873,  0.8046,  1.1052,\n",
       "          1.1887,  0.9469,  0.6416,  1.2539,  1.1869,  0.7523,  1.4576,  1.1423,\n",
       "          1.5010,  0.6815,  0.8448,  1.3468,  1.2776,  0.8132],\n",
       "        [ 0.9222,  1.1496,  0.7820,  0.8501,  1.3922,  1.0657,  1.5054,  0.8594,\n",
       "          1.1322,  0.9865,  0.7034, 16.2018,  0.6134,  1.4857,  1.4623,  1.0749,\n",
       "          0.6490,  1.9872,  1.1526,  0.9608,  1.0958,  1.4088,  0.8704,  1.2942,\n",
       "          0.9839,  0.9756,  1.1057,  0.7939,  0.3703,  1.1139],\n",
       "        [ 0.8955,  0.9734,  1.2033,  1.0188,  1.1552,  1.1641,  0.9332,  1.2368,\n",
       "          0.5006,  0.6783,  1.6999,  0.6134, 18.2565,  1.6388,  0.5955,  0.4293,\n",
       "          0.4144,  0.6972,  0.9733,  0.6745,  0.8047,  0.5126,  1.1896,  0.7951,\n",
       "          1.0589,  1.0210,  0.8186,  0.5637,  1.6511,  0.8463],\n",
       "        [ 0.6676,  0.5533,  0.9409,  0.9120,  1.8199,  0.9013,  1.2542,  1.7560,\n",
       "          0.5948,  0.9227,  1.4873,  1.4857,  1.6388, 16.2302,  0.7644,  0.9984,\n",
       "          1.1419,  0.4986,  1.1672,  1.1236,  0.4698,  0.4045,  1.6819,  1.1187,\n",
       "          1.6794,  0.9517,  0.9618,  1.0894,  0.8809,  0.4432],\n",
       "        [ 0.8486,  1.1498,  1.0051,  0.9987,  1.3873,  0.6808,  0.7578,  1.1229,\n",
       "          0.9753,  1.7188,  0.8046,  1.4623,  0.5955,  0.7644, 14.3724,  1.3312,\n",
       "          0.4919,  1.9829,  1.8112,  1.4727,  0.5788,  0.9749,  0.4243,  1.2420,\n",
       "          0.5930,  1.6396,  1.1360,  1.3736,  1.3292,  0.7445],\n",
       "        [ 1.2017,  1.3396,  1.6239,  0.7469,  2.1312,  1.2151,  1.0063,  1.1079,\n",
       "          1.0207,  1.8072,  1.1052,  1.0749,  0.4293,  0.9984,  1.3312, 18.8748,\n",
       "          2.3641,  1.5972,  0.6034,  0.9244,  1.1613,  0.7814,  0.8540,  0.0530,\n",
       "          0.7124,  1.0075,  0.7719,  0.8757,  0.5458,  1.0717],\n",
       "        [ 0.8765,  0.7594,  1.2043,  1.2819,  0.9583,  1.0413,  1.5579,  0.7427,\n",
       "          1.1629,  0.9212,  1.1887,  0.6490,  0.4144,  1.1419,  0.4919,  2.3641,\n",
       "         14.2187,  0.9426,  0.4973,  1.4985,  1.2855,  0.7380,  1.4758,  0.5081,\n",
       "          0.9666,  2.2109,  0.7522,  1.0122,  0.6898,  0.7363],\n",
       "        [ 0.5164,  0.9307,  0.9183,  0.4881,  1.1459,  1.1456,  0.6542,  0.8836,\n",
       "          0.9140,  1.5464,  0.9469,  1.9872,  0.6972,  0.4986,  1.9829,  1.5972,\n",
       "          0.9426, 12.0847,  0.8624,  0.9318,  0.8210,  0.6209,  0.7279,  0.4151,\n",
       "          0.8596,  1.0821,  0.8887,  0.8274,  1.1825,  1.1840],\n",
       "        [ 0.2662,  0.9004,  1.2218,  1.5812,  0.8075,  1.0398,  2.5344,  1.2740,\n",
       "          0.4563,  0.9959,  0.6416,  1.1526,  0.9733,  1.1672,  1.8112,  0.6034,\n",
       "          0.4973,  0.8624, 18.5433,  1.3415,  0.7490,  1.4597,  1.2139,  0.6815,\n",
       "          0.9679,  1.2235,  0.9015,  0.8308,  0.8958,  1.4925],\n",
       "        [ 0.8098,  1.4961,  1.4642,  1.0234,  1.1839,  0.9656,  1.0041,  1.3147,\n",
       "          0.8649,  0.7273,  1.2539,  0.9608,  0.6745,  1.1236,  1.4727,  0.9244,\n",
       "          1.4985,  0.9318,  1.3415, 18.7054,  0.9622,  1.2809,  1.4895,  0.7319,\n",
       "          1.0682,  0.9751,  0.9287,  1.4399,  0.7683,  0.3070],\n",
       "        [ 0.9262,  0.7981,  1.1458,  1.4061,  0.6836,  1.7579,  1.1625,  1.0922,\n",
       "          1.2900,  0.8996,  1.1869,  1.0958,  0.8047,  0.4698,  0.5788,  1.1613,\n",
       "          1.2855,  0.8210,  0.7490,  0.9622, 22.9717,  1.0175,  1.4657,  1.6049,\n",
       "          1.7223,  0.8219,  0.5481,  0.7424,  1.2717,  0.8894],\n",
       "        [ 1.1080,  1.2657,  1.1853,  1.0842,  0.7424,  0.9705,  1.2634,  1.4680,\n",
       "          1.0969,  1.6101,  0.7523,  1.4088,  0.5126,  0.4045,  0.9749,  0.7814,\n",
       "          0.7380,  0.6209,  1.4597,  1.2809,  1.0175, 14.6908,  0.7440,  1.2562,\n",
       "          1.7072,  0.9015,  0.6594,  1.0918,  0.4273,  0.8725],\n",
       "        [ 0.6455,  0.7407,  1.5663,  1.0618,  1.0157,  0.8280,  1.2814,  1.3351,\n",
       "          0.8151,  1.0119,  1.4576,  0.8704,  1.1896,  1.6819,  0.4243,  0.8540,\n",
       "          1.4758,  0.7279,  1.2139,  1.4895,  1.4657,  0.7440, 12.2907,  0.7499,\n",
       "          1.0117,  0.7956,  0.7459,  0.9055,  0.8086,  0.8848],\n",
       "        [ 1.0314,  0.9759,  0.3853,  0.9333,  0.6694,  0.7862,  0.9735,  0.6569,\n",
       "          1.5752,  0.2053,  1.1423,  1.2942,  0.7951,  1.1187,  1.2420,  0.0530,\n",
       "          0.5081,  0.4151,  0.6815,  0.7319,  1.6049,  1.2562,  0.7499, 22.1590,\n",
       "          1.7118,  1.0002,  0.9858,  1.6321,  0.9862,  0.7349],\n",
       "        [ 1.1974,  1.0922,  0.7628,  0.7056,  1.0518,  1.4867,  0.8284,  1.0380,\n",
       "          0.9914,  0.9938,  1.5010,  0.9839,  1.0589,  1.6794,  0.5930,  0.7124,\n",
       "          0.9666,  0.8596,  0.9679,  1.0682,  1.7223,  1.7072,  1.0117,  1.7118,\n",
       "         12.6771,  0.7151,  1.1968,  1.2323,  0.3656,  1.2148],\n",
       "        [ 0.9531,  0.4141,  1.2174,  1.5828,  1.0079,  0.8583,  1.2684,  0.8867,\n",
       "          1.3013,  0.7437,  0.6815,  0.9756,  1.0210,  0.9517,  1.6396,  1.0075,\n",
       "          2.2109,  1.0821,  1.2235,  0.9751,  0.8219,  0.9015,  0.7956,  1.0002,\n",
       "          0.7151, 16.1318,  0.9010,  0.9628,  1.3243,  1.0741],\n",
       "        [ 0.9834,  1.3639,  0.9155,  1.2041,  1.4185,  0.7314,  0.6134,  0.5790,\n",
       "          1.5746,  0.9743,  0.8448,  1.1057,  0.8186,  0.9618,  1.1360,  0.7719,\n",
       "          0.7522,  0.8887,  0.9015,  0.9287,  0.5481,  0.6594,  0.7459,  0.9858,\n",
       "          1.1968,  0.9010, 15.9264,  1.4093,  1.1279,  1.6427],\n",
       "        [ 0.5894,  0.7858,  1.3894,  1.5498,  1.7512,  1.1753,  0.2648,  1.2159,\n",
       "          2.3943,  0.6970,  1.3468,  0.7939,  0.5637,  1.0894,  1.3736,  0.8757,\n",
       "          1.0122,  0.8274,  0.8308,  1.4399,  0.7424,  1.0918,  0.9055,  1.6321,\n",
       "          1.2323,  0.9628,  1.4093, 20.5400,  1.3153,  0.7109],\n",
       "        [ 0.5482,  0.6421,  1.4826,  1.5654,  1.1690,  0.8410,  0.5763,  1.1334,\n",
       "          1.0460,  1.1156,  1.2776,  0.3703,  1.6511,  0.8809,  1.3292,  0.5458,\n",
       "          0.6898,  1.1825,  0.8958,  0.7683,  1.2717,  0.4273,  0.8086,  0.9862,\n",
       "          0.3656,  1.3243,  1.1279,  1.3153, 18.4735,  0.7901],\n",
       "        [ 1.5845,  0.7769,  0.9912,  1.3948,  0.2910,  1.7864,  1.3424,  0.4185,\n",
       "          1.5412,  0.8318,  0.8132,  1.1139,  0.8463,  0.4432,  0.7445,  1.0717,\n",
       "          0.7363,  1.1840,  1.4925,  0.3070,  0.8894,  0.8725,  0.8848,  0.7349,\n",
       "          1.2148,  1.0741,  1.6427,  0.7109,  0.7901, 15.2159]],\n",
       "       device='cuda:0', dtype=torch.float64)"
      ]
     },
     "execution_count": 26,
     "metadata": {},
     "output_type": "execute_result"
    }
   ],
   "source": [
    "kernel = sig.SigPDE(sig.kernels.LinearKernel(), 1)\n",
    "kernel2 = sig.RobustSigPDE(sig.kernels.LinearKernel(), 1)\n",
    "kernel.gram(x)"
   ]
  },
  {
   "cell_type": "code",
   "execution_count": 21,
   "metadata": {},
   "outputs": [
    {
     "data": {
      "text/plain": [
       "tensor([8.0374], device='cuda:0', dtype=torch.float64)"
      ]
     },
     "execution_count": 21,
     "metadata": {},
     "output_type": "execute_result"
    }
   ],
   "source": [
    "kernel.pairwise(y[0].view(1, -1, 50), y[1].view(1, -1, 50))"
   ]
  },
  {
   "cell_type": "code",
   "execution_count": 14,
   "metadata": {},
   "outputs": [
    {
     "data": {
      "text/plain": [
       "tensor([0.1089, 0.1120, 0.1146, 0.1253, 0.1281, 0.1172, 0.1295, 0.1109, 0.1185,\n",
       "        0.1186, 0.1094, 0.1211, 0.1047, 0.1156, 0.1309, 0.1050, 0.1092, 0.1263,\n",
       "        0.1119, 0.1309, 0.1103, 0.1071, 0.1167, 0.1058, 0.1179, 0.1187, 0.1244,\n",
       "        0.1144, 0.1223, 0.1219], device='cuda:0', dtype=torch.float64)"
      ]
     },
     "execution_count": 14,
     "metadata": {},
     "output_type": "execute_result"
    }
   ],
   "source": [
    "kernel2.normalization(x)"
   ]
  },
  {
   "cell_type": "code",
   "execution_count": 124,
   "metadata": {},
   "outputs": [],
   "source": [
    "z, w = sample(1)\n",
    "z = add_time(z)\n",
    "c = std_norm(kernel.pairwise(z))\n",
    "ff = lambda s : kernel.pairwise(z, x_scale=s) - c"
   ]
  },
  {
   "cell_type": "code",
   "execution_count": 125,
   "metadata": {},
   "outputs": [],
   "source": [
    "def bisection_single_eval(f, a, b, tol=1e-6, max_iter=100):\n",
    "    fa = f(a)\n",
    "    fb = f(b)\n",
    "    k = 0\n",
    "    if fa * fb >= 0:\n",
    "        raise ValueError(\"Function values at the endpoints must have opposite signs.\")\n",
    "    \n",
    "    for _ in range(max_iter):\n",
    "        k += 1\n",
    "        # Compute midpoint\n",
    "        c = (a + b) / 2\n",
    "        fc = f(c)\n",
    "\n",
    "        # Update the interval and reuse function evaluations\n",
    "        if fa * fc < 0:\n",
    "            b, fb = c, fc  # Update the right endpoint\n",
    "        else:\n",
    "            a, fa = c, fc  # Update the left endpoint\n",
    "            \n",
    "        # Stopping criterion based on function value\n",
    "        if abs(fc) < tol:\n",
    "            print(k)\n",
    "            return a, b\n",
    "\n",
    "    raise RuntimeError(\"Maximum number of iterations reached without convergence.\")"
   ]
  },
  {
   "cell_type": "code",
   "execution_count": 126,
   "metadata": {},
   "outputs": [],
   "source": [
    "def itp_single_eval(f, a=0, b=1,tol=1e-6, max_iter=100):\n",
    "    fa = f(a)\n",
    "    fb = f(b)\n",
    "    k = 0\n",
    "\n",
    "    if fa * fb >= 0:\n",
    "        raise ValueError(\"Function values at the endpoints must have opposite signs.\")\n",
    "    \n",
    "    for _ in range(max_iter):\n",
    "        k += 1\n",
    "        # Midpoint and interpolation calculation\n",
    "        mid = (a + b) / 2\n",
    "        interp = (a * fb - b * fa) / (fb - fa)\n",
    "        t = 0.2  # Blending parameter (adjust if necessary)\n",
    "        x = (1 - t) * mid + t * interp\n",
    "\n",
    "        fx = f(x)\n",
    "\n",
    "        # Update the interval and reuse function evaluations\n",
    "        if fx * fa < 0:\n",
    "            b, fb = x, fx  # Update the right endpoint\n",
    "        else:\n",
    "            a, fa = x, fx  # Update the left endpoint\n",
    "            \n",
    "        if abs(fx) < tol:  # Stopping based on function value\n",
    "            print(k)\n",
    "            return a, b\n",
    "            \n",
    "    return (a + b) / 2, k"
   ]
  },
  {
   "cell_type": "code",
   "execution_count": 127,
   "metadata": {},
   "outputs": [],
   "source": [
    "def secant_single_eval(f, x0, x1, tol=1e-6, max_iter=100):\n",
    "    f0 = f(x0)\n",
    "    f1 = f(x1)\n",
    "    k = 0\n",
    "\n",
    "    if abs(f0) < tol:\n",
    "        return x0\n",
    "    if abs(f1) < tol:\n",
    "        return x1\n",
    "\n",
    "    for _ in range(max_iter):\n",
    "        k += 1\n",
    "        # Compute the next point using the secant formula\n",
    "        x2 = x1 - f1 * (x1 - x0) / (f1 - f0)\n",
    "        f2 = f(x2)\n",
    "\n",
    "        # Check stopping criteria\n",
    "        if abs(f2) < tol:\n",
    "            return x2, f2, k\n",
    "\n",
    "        # Update for the next iteration\n",
    "        x0, f0 = x1, f1\n",
    "        x1, f1 = x2, f2"
   ]
  },
  {
   "cell_type": "code",
   "execution_count": 128,
   "metadata": {},
   "outputs": [],
   "source": [
    "def itp_optimized(f, a, b, tol, max_iter, alpha=0.2, beta=1.0):\n",
    "    # Initial evaluations\n",
    "    f_a = f(a)\n",
    "    f_b = f(b)\n",
    "    k = 0\n",
    "    if f_a * f_b > 0:\n",
    "        raise ValueError(\"Function must have opposite signs at endpoints a and b.\")\n",
    "\n",
    "    for iteration in range(max_iter):\n",
    "        k += 1\n",
    "        # Compute midpoint and its function value (reuse evaluations when possible)\n",
    "        m = (a + b) / 2\n",
    "        f_m = f(m) if iteration == 0 else f_m  # First iteration requires f(m)\n",
    "\n",
    "        # Interpolation\n",
    "        delta = beta * (b - a) / 2\n",
    "        g = m - (1 if f_m > 0 else -1) * min(abs(f_m) * delta, delta)\n",
    "\n",
    "        # Truncation\n",
    "        t = m + (g - m) * min(1, alpha * (b - a))\n",
    "\n",
    "        # Evaluate f(t) only once\n",
    "        f_t = f(t)\n",
    "\n",
    "        # Update bounds and reuse evaluations\n",
    "        if f_a * f_t < 0:\n",
    "            b, f_b = t, f_t\n",
    "        else:\n",
    "            a, f_a = t, f_t\n",
    "            \n",
    "        # Check stopping criteria\n",
    "        if f_t == 0 or abs(f_t) < tol:\n",
    "            print(k)\n",
    "            return a, b\n",
    "\n",
    "        # Update f_m for reuse in the next iteration\n",
    "        f_m = f_m if t == m else f(t)\n"
   ]
  },
  {
   "cell_type": "code",
   "execution_count": 129,
   "metadata": {},
   "outputs": [],
   "source": [
    "def newton_raphson(f, x0, c, tol=1e-6, max_iter=100):\n",
    "    k = 0\n",
    "    \n",
    "    for _ in range(max_iter):\n",
    "        k += 1\n",
    "        fx, dfx = f(x0)\n",
    "        \n",
    "        fx = fx - c\n",
    "        \n",
    "        if abs(fx) < tol:\n",
    "            return x0, fx, k\n",
    "        x0 = x0 - fx / dfx"
   ]
  },
  {
   "cell_type": "code",
   "execution_count": 146,
   "metadata": {},
   "outputs": [],
   "source": [
    "z, w = sample(1)\n",
    "z = add_time(z)\n",
    "c = std_norm(kernel.pairwise(z))\n",
    "ff = lambda s : kernel.pairwise(z, x_scale=s) - c"
   ]
  },
  {
   "cell_type": "code",
   "execution_count": 133,
   "metadata": {},
   "outputs": [
    {
     "data": {
      "text/plain": [
       "tensor([1.9723], device='cuda:0', dtype=torch.float64)"
      ]
     },
     "execution_count": 133,
     "metadata": {},
     "output_type": "execute_result"
    }
   ],
   "source": [
    "c"
   ]
  },
  {
   "cell_type": "code",
   "execution_count": 147,
   "metadata": {},
   "outputs": [
    {
     "name": "stdout",
     "output_type": "stream",
     "text": [
      "10\n",
      "tensor([0.3542], device='cuda:0', dtype=torch.float64)\n",
      "tensor([-4.9490e-09], device='cuda:0', dtype=torch.float64)\n",
      "2\n"
     ]
    }
   ],
   "source": [
    "a = torch.tensor([0], device=x.device, dtype=x.dtype)\n",
    "b = torch.tensor([1], device=x.device, dtype=x.dtype)\n",
    "a, b = bisection_single_eval(ff, a=a, b=b, tol=0.01)\n",
    "b_secant, val_secant, k_secant = secant_single_eval(ff, a, b, tol=1e-7, max_iter=200)\n",
    "print(b_secant)\n",
    "print(val_secant)\n",
    "print(k_secant)"
   ]
  },
  {
   "cell_type": "code",
   "execution_count": 135,
   "metadata": {},
   "outputs": [
    {
     "name": "stdout",
     "output_type": "stream",
     "text": [
      "12\n",
      "tensor([0.5222], device='cuda:0', dtype=torch.float64)\n",
      "tensor([-2.7587e-08], device='cuda:0', dtype=torch.float64)\n",
      "2\n"
     ]
    }
   ],
   "source": [
    "a = torch.tensor([0], device=x.device, dtype=x.dtype)\n",
    "b = torch.tensor([1], device=x.device, dtype=x.dtype)\n",
    "a, b = bisection_single_eval(ff, a=a, b=b, tol=0.01, max_iter=100)\n",
    "b_secant, val_secant, k_secant = secant_single_eval(ff, a, b, tol=1e-7, max_iter=200)\n",
    "print(b_secant)\n",
    "print(val_secant)\n",
    "print(k_secant)"
   ]
  },
  {
   "cell_type": "code",
   "execution_count": 134,
   "metadata": {},
   "outputs": [
    {
     "name": "stdout",
     "output_type": "stream",
     "text": [
      "10\n"
     ]
    },
    {
     "ename": "RuntimeError",
     "evalue": "Boolean value of Tensor with more than one value is ambiguous",
     "output_type": "error",
     "traceback": [
      "\u001b[0;31m---------------------------------------------------------------------------\u001b[0m",
      "\u001b[0;31mRuntimeError\u001b[0m                              Traceback (most recent call last)",
      "Cell \u001b[0;32mIn [134], line 6\u001b[0m\n\u001b[1;32m      4\u001b[0m \u001b[38;5;66;03m#a, b = itp_optimized(ff, a=a, b=b, tol=0.01, max_iter=100)\u001b[39;00m\n\u001b[1;32m      5\u001b[0m df \u001b[38;5;241m=\u001b[39m \u001b[38;5;28;01mlambda\u001b[39;00m s : kernel2\u001b[38;5;241m.\u001b[39mpairwise_norm(x, s)\n\u001b[0;32m----> 6\u001b[0m b_nr, s_nr, k_nr \u001b[38;5;241m=\u001b[39m \u001b[43mnewton_raphson\u001b[49m\u001b[43m(\u001b[49m\u001b[43mdf\u001b[49m\u001b[43m,\u001b[49m\u001b[43m \u001b[49m\u001b[43m(\u001b[49m\u001b[43ma\u001b[49m\u001b[43m \u001b[49m\u001b[38;5;241;43m+\u001b[39;49m\u001b[43m \u001b[49m\u001b[43mb\u001b[49m\u001b[43m)\u001b[49m\u001b[43m \u001b[49m\u001b[38;5;241;43m/\u001b[39;49m\u001b[43m \u001b[49m\u001b[38;5;241;43m2\u001b[39;49m\u001b[43m,\u001b[49m\u001b[43m \u001b[49m\u001b[43mc\u001b[49m\u001b[43m,\u001b[49m\u001b[43m \u001b[49m\u001b[43mtol\u001b[49m\u001b[38;5;241;43m=\u001b[39;49m\u001b[38;5;241;43m1e-7\u001b[39;49m\u001b[43m,\u001b[49m\u001b[43m \u001b[49m\u001b[43mmax_iter\u001b[49m\u001b[38;5;241;43m=\u001b[39;49m\u001b[38;5;241;43m200\u001b[39;49m\u001b[43m)\u001b[49m\n\u001b[1;32m      7\u001b[0m \u001b[38;5;28mprint\u001b[39m(b_nr)\n\u001b[1;32m      8\u001b[0m \u001b[38;5;28mprint\u001b[39m(s_nr)\n",
      "Cell \u001b[0;32mIn [129], line 10\u001b[0m, in \u001b[0;36mnewton_raphson\u001b[0;34m(f, x0, c, tol, max_iter)\u001b[0m\n\u001b[1;32m      6\u001b[0m fx, dfx \u001b[38;5;241m=\u001b[39m f(x0)\n\u001b[1;32m      8\u001b[0m fx \u001b[38;5;241m=\u001b[39m fx \u001b[38;5;241m-\u001b[39m c\n\u001b[0;32m---> 10\u001b[0m \u001b[38;5;28;01mif\u001b[39;00m \u001b[38;5;28mabs\u001b[39m(fx) \u001b[38;5;241m<\u001b[39m tol:\n\u001b[1;32m     11\u001b[0m     \u001b[38;5;28;01mreturn\u001b[39;00m x0, fx, k\n\u001b[1;32m     12\u001b[0m x0 \u001b[38;5;241m=\u001b[39m x0 \u001b[38;5;241m-\u001b[39m fx \u001b[38;5;241m/\u001b[39m dfx\n",
      "\u001b[0;31mRuntimeError\u001b[0m: Boolean value of Tensor with more than one value is ambiguous"
     ]
    }
   ],
   "source": [
    "a = torch.tensor([0], device=x.device, dtype=x.dtype)\n",
    "b = torch.tensor([1], device=x.device, dtype=x.dtype)\n",
    "a, b = itp_single_eval(ff, a=a, b=b, tol=0.01)\n",
    "#a, b = itp_optimized(ff, a=a, b=b, tol=0.01, max_iter=100)\n",
    "df = lambda s : kernel2.pairwise_norm(x, s)\n",
    "b_nr, s_nr, k_nr = newton_raphson(df, (a + b) / 2, c, tol=1e-7, max_iter=200)\n",
    "print(b_nr)\n",
    "print(s_nr)\n",
    "print(k_nr)"
   ]
  },
  {
   "cell_type": "code",
   "execution_count": 68,
   "metadata": {},
   "outputs": [
    {
     "name": "stdout",
     "output_type": "stream",
     "text": [
      "tensor([1.7421e-10], device='cuda:0', dtype=torch.float64)\n",
      "tensor([-6.3408e-11], device='cuda:0', dtype=torch.float64)\n"
     ]
    }
   ],
   "source": [
    "print(kernel.pairwise(x, x_scale = b_secant) - c)\n",
    "print(kernel.pairwise(x, x_scale = b_nr) - c)"
   ]
  }
 ],
 "metadata": {
  "kernelspec": {
   "display_name": "Python 3",
   "language": "python",
   "name": "python3"
  },
  "language_info": {
   "codemirror_mode": {
    "name": "ipython",
    "version": 3
   },
   "file_extension": ".py",
   "mimetype": "text/x-python",
   "name": "python",
   "nbconvert_exporter": "python",
   "pygments_lexer": "ipython3",
   "version": "3.9.20"
  }
 },
 "nbformat": 4,
 "nbformat_minor": 2
}
