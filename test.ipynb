{
 "cells": [
  {
   "cell_type": "code",
   "execution_count": 119,
   "metadata": {},
   "outputs": [],
   "source": [
    "import sigpde.torch as sig\n",
    "import torch\n",
    "import math\n",
    "device = torch.device('cuda:0')"
   ]
  },
  {
   "cell_type": "code",
   "execution_count": 150,
   "metadata": {},
   "outputs": [],
   "source": [
    "def sample(n, rho=1, scale=8, T=0.5, start=0, stop=1, dt=0.005, randgrid = 30, thin=0, device=torch.device('cuda:0'), dtype=torch.float64):\n",
    "        l = math.ceil((stop - start) / dt) + 1\n",
    "        \n",
    "        ts = torch.linspace(0, 1, l, device=device, dtype=dtype)\n",
    "        \n",
    "        b1 = math.sqrt(2 / T) * torch.sin(4 * torch.pi * ts / T)\n",
    "        b2 = math.sqrt(2 / T) * torch.cos(6 * torch.pi * ts / T)\n",
    "        c = torch.randn((n, 3), dtype=dtype, device=device)\n",
    "       \n",
    "        b1 = (b1 * c[:, 1].view(n, 1))\n",
    "        b2 = (b2 * c[:, 2].view(n, 1))\n",
    "        \n",
    "        x = (b1 + b2 + c[:, 0].view(n, 1))\n",
    "       \n",
    "        c1 = (0.75 - 0.25) * torch.rand((n, 2), device=device, dtype=dtype) + 0.25\n",
    "        \n",
    "        i1 = (ts - c1[:,0].view(n, 1, 1)).view(n, -1)**2\n",
    "        i2 = (ts - c1[:,1].view(n, 1, 1)).view(n, -1)**2\n",
    "        \n",
    "        zero_column = torch.zeros(n, 1, device=device, dtype=dtype)\n",
    "        x1 = torch.cat((zero_column, (x[:,range(l-1)] * dt).cumsum(dim=1)), dim=1) * i2\n",
    "        x2 = torch.cat((zero_column, (x[:,range(l-1)] * i1[:,range(l-1)] * dt).cumsum(dim=1)), dim=1)\n",
    "        \n",
    "        y = rho * (x2 - x1) * scale\n",
    "        y = y\n",
    "        x = x\n",
    "        \n",
    "        return x.view(n, l, 1)[:, range(0, l, 2**thin),:], y.view(n, l, 1)[:, range(0, l, 2**thin),:]"
   ]
  },
  {
   "cell_type": "code",
   "execution_count": 160,
   "metadata": {},
   "outputs": [],
   "source": [
    "kernel = sig.SigPDE(sig.kernels.LinearKernel(), 3)\n",
    "kernel2 = sig.RobustSigPDE(sig.kernels.LinearKernel(), 3)"
   ]
  },
  {
   "cell_type": "code",
   "execution_count": 122,
   "metadata": {},
   "outputs": [],
   "source": [
    "def generate(batch_size, length, dimension, device = torch.device('cpu')):\n",
    "  random_walks = torch.randn(batch_size, length, dimension, dtype = torch.double, device = device) / math.sqrt(length)\n",
    "  start = torch.zeros([batch_size, 1, dimension], device=device, dtype=torch.double)\n",
    "  random_walks = torch.cat((start, random_walks), dim=1)\n",
    "  random_walks = torch.cumsum(random_walks, dim=1)\n",
    "  return random_walks\n",
    "\n",
    "def add_time(x, start=0, stop=1):\n",
    "    device = x.device\n",
    "    dtype = x.dtype\n",
    "\n",
    "    l = x.shape[1]\n",
    "\n",
    "    t = torch.linspace(start, stop, l, device=device, dtype=dtype)\n",
    "    t = t.unsqueeze(0).unsqueeze(-1)\n",
    "    return torch.cat((x, t.expand(x.shape[0], x.shape[1], 1)), dim=-1)\n",
    "\n",
    "def std_norm(x):\n",
    "    return 2 - 1 / (1 + x.log())\n",
    "\n",
    "def time_norm(x, time=True):\n",
    "    if time:\n",
    "        x = add_time(x)\n",
    "    return x / x.pow(2).sum(dim=2).sqrt().max(dim=1).values.view(x.shape[0], 1, 1)"
   ]
  },
  {
   "cell_type": "code",
   "execution_count": 174,
   "metadata": {},
   "outputs": [],
   "source": [
    "x = generate(30, 512, 50, device=device)\n",
    "y = generate(1, 512, 50, device=device)\n",
    "z, w = sample(30)\n",
    "z = time_norm(z)\n",
    "w = time_norm(w)"
   ]
  },
  {
   "cell_type": "code",
   "execution_count": null,
   "metadata": {},
   "outputs": [],
   "source": []
  },
  {
   "cell_type": "code",
   "execution_count": 180,
   "metadata": {},
   "outputs": [
    {
     "name": "stdout",
     "output_type": "stream",
     "text": [
      "tensor([1.0881, 1.0816, 1.3658, 1.0964, 1.1881, 1.0238, 1.0480, 1.0528, 1.1355,\n",
      "        1.3262, 1.1878, 1.2916, 1.2178, 1.0703, 1.0980, 1.3667, 1.3173, 1.0936,\n",
      "        1.2302, 1.0960, 1.3106, 1.1181, 1.1232, 1.1700, 1.1352, 1.3015, 1.0269,\n",
      "        1.0361, 1.2316, 1.0633], device='cuda:0', dtype=torch.float64)\n",
      "tensor([1.1338, 1.1483, 1.8351, 1.1511, 1.3728, 1.0371, 1.0735, 1.0776, 1.2600,\n",
      "        1.6603, 1.4657, 1.5867, 1.4709, 1.1093, 1.1669, 1.8009, 1.6756, 1.1858,\n",
      "        1.4099, 1.1567, 1.6712, 1.1941, 1.2102, 1.2927, 1.2629, 1.6885, 1.0483,\n",
      "        1.0583, 1.4177, 1.1124], device='cuda:0', dtype=torch.float64)\n"
     ]
    }
   ],
   "source": [
    "kernel = sig.SigPDE(sig.kernels.LinearKernel(), 2)\n",
    "kernel2 = sig.RobustSigPDE(sig.kernels.LinearKernel(), 2)\n",
    "\n",
    "print(kernel2.pairwise(z, w))\n",
    "print(kernel.pairwise(z, w))"
   ]
  },
  {
   "cell_type": "code",
   "execution_count": 124,
   "metadata": {},
   "outputs": [],
   "source": [
    "z, w = sample(1)\n",
    "z = add_time(z)\n",
    "c = std_norm(kernel.pairwise(z))\n",
    "ff = lambda s : kernel.pairwise(z, x_scale=s) - c"
   ]
  },
  {
   "cell_type": "code",
   "execution_count": 125,
   "metadata": {},
   "outputs": [],
   "source": [
    "def bisection_single_eval(f, a, b, tol=1e-6, max_iter=100):\n",
    "    fa = f(a)\n",
    "    fb = f(b)\n",
    "    k = 0\n",
    "    if fa * fb >= 0:\n",
    "        raise ValueError(\"Function values at the endpoints must have opposite signs.\")\n",
    "    \n",
    "    for _ in range(max_iter):\n",
    "        k += 1\n",
    "        # Compute midpoint\n",
    "        c = (a + b) / 2\n",
    "        fc = f(c)\n",
    "\n",
    "        # Update the interval and reuse function evaluations\n",
    "        if fa * fc < 0:\n",
    "            b, fb = c, fc  # Update the right endpoint\n",
    "        else:\n",
    "            a, fa = c, fc  # Update the left endpoint\n",
    "            \n",
    "        # Stopping criterion based on function value\n",
    "        if abs(fc) < tol:\n",
    "            print(k)\n",
    "            return a, b\n",
    "\n",
    "    raise RuntimeError(\"Maximum number of iterations reached without convergence.\")"
   ]
  },
  {
   "cell_type": "code",
   "execution_count": 126,
   "metadata": {},
   "outputs": [],
   "source": [
    "def itp_single_eval(f, a=0, b=1,tol=1e-6, max_iter=100):\n",
    "    fa = f(a)\n",
    "    fb = f(b)\n",
    "    k = 0\n",
    "\n",
    "    if fa * fb >= 0:\n",
    "        raise ValueError(\"Function values at the endpoints must have opposite signs.\")\n",
    "    \n",
    "    for _ in range(max_iter):\n",
    "        k += 1\n",
    "        # Midpoint and interpolation calculation\n",
    "        mid = (a + b) / 2\n",
    "        interp = (a * fb - b * fa) / (fb - fa)\n",
    "        t = 0.2  # Blending parameter (adjust if necessary)\n",
    "        x = (1 - t) * mid + t * interp\n",
    "\n",
    "        fx = f(x)\n",
    "\n",
    "        # Update the interval and reuse function evaluations\n",
    "        if fx * fa < 0:\n",
    "            b, fb = x, fx  # Update the right endpoint\n",
    "        else:\n",
    "            a, fa = x, fx  # Update the left endpoint\n",
    "            \n",
    "        if abs(fx) < tol:  # Stopping based on function value\n",
    "            print(k)\n",
    "            return a, b\n",
    "            \n",
    "    return (a + b) / 2, k"
   ]
  },
  {
   "cell_type": "code",
   "execution_count": 127,
   "metadata": {},
   "outputs": [],
   "source": [
    "def secant_single_eval(f, x0, x1, tol=1e-6, max_iter=100):\n",
    "    f0 = f(x0)\n",
    "    f1 = f(x1)\n",
    "    k = 0\n",
    "\n",
    "    if abs(f0) < tol:\n",
    "        return x0\n",
    "    if abs(f1) < tol:\n",
    "        return x1\n",
    "\n",
    "    for _ in range(max_iter):\n",
    "        k += 1\n",
    "        # Compute the next point using the secant formula\n",
    "        x2 = x1 - f1 * (x1 - x0) / (f1 - f0)\n",
    "        f2 = f(x2)\n",
    "\n",
    "        # Check stopping criteria\n",
    "        if abs(f2) < tol:\n",
    "            return x2, f2, k\n",
    "\n",
    "        # Update for the next iteration\n",
    "        x0, f0 = x1, f1\n",
    "        x1, f1 = x2, f2"
   ]
  },
  {
   "cell_type": "code",
   "execution_count": 128,
   "metadata": {},
   "outputs": [],
   "source": [
    "def itp_optimized(f, a, b, tol, max_iter, alpha=0.2, beta=1.0):\n",
    "    # Initial evaluations\n",
    "    f_a = f(a)\n",
    "    f_b = f(b)\n",
    "    k = 0\n",
    "    if f_a * f_b > 0:\n",
    "        raise ValueError(\"Function must have opposite signs at endpoints a and b.\")\n",
    "\n",
    "    for iteration in range(max_iter):\n",
    "        k += 1\n",
    "        # Compute midpoint and its function value (reuse evaluations when possible)\n",
    "        m = (a + b) / 2\n",
    "        f_m = f(m) if iteration == 0 else f_m  # First iteration requires f(m)\n",
    "\n",
    "        # Interpolation\n",
    "        delta = beta * (b - a) / 2\n",
    "        g = m - (1 if f_m > 0 else -1) * min(abs(f_m) * delta, delta)\n",
    "\n",
    "        # Truncation\n",
    "        t = m + (g - m) * min(1, alpha * (b - a))\n",
    "\n",
    "        # Evaluate f(t) only once\n",
    "        f_t = f(t)\n",
    "\n",
    "        # Update bounds and reuse evaluations\n",
    "        if f_a * f_t < 0:\n",
    "            b, f_b = t, f_t\n",
    "        else:\n",
    "            a, f_a = t, f_t\n",
    "            \n",
    "        # Check stopping criteria\n",
    "        if f_t == 0 or abs(f_t) < tol:\n",
    "            print(k)\n",
    "            return a, b\n",
    "\n",
    "        # Update f_m for reuse in the next iteration\n",
    "        f_m = f_m if t == m else f(t)\n"
   ]
  },
  {
   "cell_type": "code",
   "execution_count": 129,
   "metadata": {},
   "outputs": [],
   "source": [
    "def newton_raphson(f, x0, c, tol=1e-6, max_iter=100):\n",
    "    k = 0\n",
    "    \n",
    "    for _ in range(max_iter):\n",
    "        k += 1\n",
    "        fx, dfx = f(x0)\n",
    "        \n",
    "        fx = fx - c\n",
    "        \n",
    "        if abs(fx) < tol:\n",
    "            return x0, fx, k\n",
    "        x0 = x0 - fx / dfx"
   ]
  },
  {
   "cell_type": "code",
   "execution_count": 146,
   "metadata": {},
   "outputs": [],
   "source": [
    "z, w = sample(1)\n",
    "z = add_time(z)\n",
    "c = std_norm(kernel.pairwise(z))\n",
    "ff = lambda s : kernel.pairwise(z, x_scale=s) - c"
   ]
  },
  {
   "cell_type": "code",
   "execution_count": 133,
   "metadata": {},
   "outputs": [
    {
     "data": {
      "text/plain": [
       "tensor([1.9723], device='cuda:0', dtype=torch.float64)"
      ]
     },
     "execution_count": 133,
     "metadata": {},
     "output_type": "execute_result"
    }
   ],
   "source": [
    "c"
   ]
  },
  {
   "cell_type": "code",
   "execution_count": 147,
   "metadata": {},
   "outputs": [
    {
     "name": "stdout",
     "output_type": "stream",
     "text": [
      "10\n",
      "tensor([0.3542], device='cuda:0', dtype=torch.float64)\n",
      "tensor([-4.9490e-09], device='cuda:0', dtype=torch.float64)\n",
      "2\n"
     ]
    }
   ],
   "source": [
    "a = torch.tensor([0], device=x.device, dtype=x.dtype)\n",
    "b = torch.tensor([1], device=x.device, dtype=x.dtype)\n",
    "a, b = bisection_single_eval(ff, a=a, b=b, tol=0.01)\n",
    "b_secant, val_secant, k_secant = secant_single_eval(ff, a, b, tol=1e-7, max_iter=200)\n",
    "print(b_secant)\n",
    "print(val_secant)\n",
    "print(k_secant)"
   ]
  },
  {
   "cell_type": "code",
   "execution_count": 135,
   "metadata": {},
   "outputs": [
    {
     "name": "stdout",
     "output_type": "stream",
     "text": [
      "12\n",
      "tensor([0.5222], device='cuda:0', dtype=torch.float64)\n",
      "tensor([-2.7587e-08], device='cuda:0', dtype=torch.float64)\n",
      "2\n"
     ]
    }
   ],
   "source": [
    "a = torch.tensor([0], device=x.device, dtype=x.dtype)\n",
    "b = torch.tensor([1], device=x.device, dtype=x.dtype)\n",
    "a, b = bisection_single_eval(ff, a=a, b=b, tol=0.01, max_iter=100)\n",
    "b_secant, val_secant, k_secant = secant_single_eval(ff, a, b, tol=1e-7, max_iter=200)\n",
    "print(b_secant)\n",
    "print(val_secant)\n",
    "print(k_secant)"
   ]
  },
  {
   "cell_type": "code",
   "execution_count": 134,
   "metadata": {},
   "outputs": [
    {
     "name": "stdout",
     "output_type": "stream",
     "text": [
      "10\n"
     ]
    },
    {
     "ename": "RuntimeError",
     "evalue": "Boolean value of Tensor with more than one value is ambiguous",
     "output_type": "error",
     "traceback": [
      "\u001b[0;31m---------------------------------------------------------------------------\u001b[0m",
      "\u001b[0;31mRuntimeError\u001b[0m                              Traceback (most recent call last)",
      "Cell \u001b[0;32mIn [134], line 6\u001b[0m\n\u001b[1;32m      4\u001b[0m \u001b[38;5;66;03m#a, b = itp_optimized(ff, a=a, b=b, tol=0.01, max_iter=100)\u001b[39;00m\n\u001b[1;32m      5\u001b[0m df \u001b[38;5;241m=\u001b[39m \u001b[38;5;28;01mlambda\u001b[39;00m s : kernel2\u001b[38;5;241m.\u001b[39mpairwise_norm(x, s)\n\u001b[0;32m----> 6\u001b[0m b_nr, s_nr, k_nr \u001b[38;5;241m=\u001b[39m \u001b[43mnewton_raphson\u001b[49m\u001b[43m(\u001b[49m\u001b[43mdf\u001b[49m\u001b[43m,\u001b[49m\u001b[43m \u001b[49m\u001b[43m(\u001b[49m\u001b[43ma\u001b[49m\u001b[43m \u001b[49m\u001b[38;5;241;43m+\u001b[39;49m\u001b[43m \u001b[49m\u001b[43mb\u001b[49m\u001b[43m)\u001b[49m\u001b[43m \u001b[49m\u001b[38;5;241;43m/\u001b[39;49m\u001b[43m \u001b[49m\u001b[38;5;241;43m2\u001b[39;49m\u001b[43m,\u001b[49m\u001b[43m \u001b[49m\u001b[43mc\u001b[49m\u001b[43m,\u001b[49m\u001b[43m \u001b[49m\u001b[43mtol\u001b[49m\u001b[38;5;241;43m=\u001b[39;49m\u001b[38;5;241;43m1e-7\u001b[39;49m\u001b[43m,\u001b[49m\u001b[43m \u001b[49m\u001b[43mmax_iter\u001b[49m\u001b[38;5;241;43m=\u001b[39;49m\u001b[38;5;241;43m200\u001b[39;49m\u001b[43m)\u001b[49m\n\u001b[1;32m      7\u001b[0m \u001b[38;5;28mprint\u001b[39m(b_nr)\n\u001b[1;32m      8\u001b[0m \u001b[38;5;28mprint\u001b[39m(s_nr)\n",
      "Cell \u001b[0;32mIn [129], line 10\u001b[0m, in \u001b[0;36mnewton_raphson\u001b[0;34m(f, x0, c, tol, max_iter)\u001b[0m\n\u001b[1;32m      6\u001b[0m fx, dfx \u001b[38;5;241m=\u001b[39m f(x0)\n\u001b[1;32m      8\u001b[0m fx \u001b[38;5;241m=\u001b[39m fx \u001b[38;5;241m-\u001b[39m c\n\u001b[0;32m---> 10\u001b[0m \u001b[38;5;28;01mif\u001b[39;00m \u001b[38;5;28mabs\u001b[39m(fx) \u001b[38;5;241m<\u001b[39m tol:\n\u001b[1;32m     11\u001b[0m     \u001b[38;5;28;01mreturn\u001b[39;00m x0, fx, k\n\u001b[1;32m     12\u001b[0m x0 \u001b[38;5;241m=\u001b[39m x0 \u001b[38;5;241m-\u001b[39m fx \u001b[38;5;241m/\u001b[39m dfx\n",
      "\u001b[0;31mRuntimeError\u001b[0m: Boolean value of Tensor with more than one value is ambiguous"
     ]
    }
   ],
   "source": [
    "a = torch.tensor([0], device=x.device, dtype=x.dtype)\n",
    "b = torch.tensor([1], device=x.device, dtype=x.dtype)\n",
    "a, b = itp_single_eval(ff, a=a, b=b, tol=0.01)\n",
    "#a, b = itp_optimized(ff, a=a, b=b, tol=0.01, max_iter=100)\n",
    "df = lambda s : kernel2.pairwise_norm(x, s)\n",
    "b_nr, s_nr, k_nr = newton_raphson(df, (a + b) / 2, c, tol=1e-7, max_iter=200)\n",
    "print(b_nr)\n",
    "print(s_nr)\n",
    "print(k_nr)"
   ]
  },
  {
   "cell_type": "code",
   "execution_count": 68,
   "metadata": {},
   "outputs": [
    {
     "name": "stdout",
     "output_type": "stream",
     "text": [
      "tensor([1.7421e-10], device='cuda:0', dtype=torch.float64)\n",
      "tensor([-6.3408e-11], device='cuda:0', dtype=torch.float64)\n"
     ]
    }
   ],
   "source": [
    "print(kernel.pairwise(x, x_scale = b_secant) - c)\n",
    "print(kernel.pairwise(x, x_scale = b_nr) - c)"
   ]
  }
 ],
 "metadata": {
  "kernelspec": {
   "display_name": "Python 3",
   "language": "python",
   "name": "python3"
  },
  "language_info": {
   "codemirror_mode": {
    "name": "ipython",
    "version": 3
   },
   "file_extension": ".py",
   "mimetype": "text/x-python",
   "name": "python",
   "nbconvert_exporter": "python",
   "pygments_lexer": "ipython3",
   "version": "3.9.20"
  }
 },
 "nbformat": 4,
 "nbformat_minor": 2
}
