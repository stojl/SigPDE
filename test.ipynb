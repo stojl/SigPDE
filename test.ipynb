{
 "cells": [
  {
   "cell_type": "code",
   "execution_count": 1,
   "metadata": {},
   "outputs": [],
   "source": [
    "import sigpde.torch as sig\n",
    "import torch\n",
    "import math\n",
    "device = torch.device('cuda:0')"
   ]
  },
  {
   "cell_type": "code",
   "execution_count": 2,
   "metadata": {},
   "outputs": [],
   "source": [
    "kernel = sig.SigPDE(sig.kernels.LinearKernel(), 3)\n",
    "kernel2 = sig.RobustSigPDE(sig.kernels.LinearKernel(), 3)"
   ]
  },
  {
   "cell_type": "code",
   "execution_count": 3,
   "metadata": {},
   "outputs": [],
   "source": [
    "def generate(batch_size, length, dimension, device = torch.device('cpu')):\n",
    "  random_walks = torch.randn(batch_size, length, dimension, dtype = torch.double, device = device) / math.sqrt(length)\n",
    "  start = torch.zeros([batch_size, 1, dimension], device=device, dtype=torch.double)\n",
    "  random_walks = torch.cat((start, random_walks), dim=1)\n",
    "  random_walks = torch.cumsum(random_walks, dim=1)\n",
    "  return random_walks\n",
    "\n",
    "def add_time(x, start=0, stop=1):\n",
    "    device = x.device\n",
    "    dtype = x.dtype\n",
    "\n",
    "    l = x.shape[1]\n",
    "\n",
    "    t = torch.linspace(start, stop, l, device=device, dtype=dtype)\n",
    "    t = t.unsqueeze(0).unsqueeze(-1)\n",
    "    return torch.cat((x, t.expand(x.shape[0], x.shape[1], 1)), dim=-1)\n",
    "\n",
    "def std_norm(x):\n",
    "    return 2 - 1 / (1 + x.log())\n",
    "\n",
    "def time_norm(x, time=True):\n",
    "    if time:\n",
    "        x = add_time(x)\n",
    "    return x / x.pow(2).sum(dim=2).sqrt().max(dim=1).values.view(x.shape[0], 1, 1)"
   ]
  },
  {
   "cell_type": "code",
   "execution_count": 46,
   "metadata": {},
   "outputs": [],
   "source": [
    "x = generate(1, 512, 50, device=device) * 3\n",
    "y = generate(1, 512, 50, device=device)"
   ]
  },
  {
   "cell_type": "code",
   "execution_count": 59,
   "metadata": {},
   "outputs": [],
   "source": [
    "x = time_norm(x)\n",
    "y = time_norm(y)"
   ]
  },
  {
   "cell_type": "code",
   "execution_count": 60,
   "metadata": {},
   "outputs": [
    {
     "data": {
      "text/plain": [
       "tensor([2.5109], device='cuda:0', dtype=torch.float64)"
      ]
     },
     "execution_count": 60,
     "metadata": {},
     "output_type": "execute_result"
    }
   ],
   "source": [
    "kernel.pairwise(x)"
   ]
  },
  {
   "cell_type": "code",
   "execution_count": 61,
   "metadata": {},
   "outputs": [
    {
     "data": {
      "text/plain": [
       "(tensor([1.2680], device='cuda:0', dtype=torch.float64),\n",
       " tensor([1.1879], device='cuda:0', dtype=torch.float64))"
      ]
     },
     "execution_count": 61,
     "metadata": {},
     "output_type": "execute_result"
    }
   ],
   "source": [
    "kernel2.pairwise_norm(x, torch.tensor([0.5], device=x.device, dtype=x.dtype))"
   ]
  },
  {
   "cell_type": "code",
   "execution_count": 62,
   "metadata": {},
   "outputs": [],
   "source": [
    "c = std_norm(kernel.pairwise(x))\n",
    "ff = lambda s : kernel.pairwise(x, x_scale=s) - c"
   ]
  },
  {
   "cell_type": "code",
   "execution_count": 8,
   "metadata": {},
   "outputs": [],
   "source": [
    "def bisection_single_eval(f, a, b, tol=1e-6, max_iter=100):\n",
    "    fa = f(a)\n",
    "    fb = f(b)\n",
    "    k = 0\n",
    "    if fa * fb >= 0:\n",
    "        raise ValueError(\"Function values at the endpoints must have opposite signs.\")\n",
    "    \n",
    "    for _ in range(max_iter):\n",
    "        k += 1\n",
    "        # Compute midpoint\n",
    "        c = (a + b) / 2\n",
    "        fc = f(c)\n",
    "\n",
    "        # Stopping criterion based on function value\n",
    "        if abs(fc) < tol:\n",
    "            return c, fc, k\n",
    "\n",
    "        # Update the interval and reuse function evaluations\n",
    "        if fa * fc < 0:\n",
    "            b, fb = c, fc  # Update the right endpoint\n",
    "        else:\n",
    "            a, fa = c, fc  # Update the left endpoint\n",
    "\n",
    "    raise RuntimeError(\"Maximum number of iterations reached without convergence.\")"
   ]
  },
  {
   "cell_type": "code",
   "execution_count": 9,
   "metadata": {},
   "outputs": [],
   "source": [
    "def itp_single_eval(f, a=0, b=1,tol=1e-6, max_iter=100):\n",
    "    fa = f(a)\n",
    "    fb = f(b)\n",
    "    k = 0\n",
    "\n",
    "    if fa * fb >= 0:\n",
    "        raise ValueError(\"Function values at the endpoints must have opposite signs.\")\n",
    "    \n",
    "    for _ in range(max_iter):\n",
    "        k += 1\n",
    "        # Midpoint and interpolation calculation\n",
    "        mid = (a + b) / 2\n",
    "        interp = (a * fb - b * fa) / (fb - fa)\n",
    "        t = 0.2  # Blending parameter (adjust if necessary)\n",
    "        x = (1 - t) * mid + t * interp\n",
    "\n",
    "        fx = f(x)\n",
    "\n",
    "        # Update the interval and reuse function evaluations\n",
    "        if fx * fa < 0:\n",
    "            b, fb = x, fx  # Update the right endpoint\n",
    "        else:\n",
    "            a, fa = x, fx  # Update the left endpoint\n",
    "            \n",
    "        if abs(fx) < tol:  # Stopping based on function value\n",
    "            print(k)\n",
    "            return a, b\n",
    "            \n",
    "    return (a + b) / 2, k"
   ]
  },
  {
   "cell_type": "code",
   "execution_count": 10,
   "metadata": {},
   "outputs": [],
   "source": [
    "def secant_single_eval(f, x0, x1, tol=1e-6, max_iter=100):\n",
    "    f0 = f(x0)\n",
    "    f1 = f(x1)\n",
    "    k = 0\n",
    "\n",
    "    if abs(f0) < tol:\n",
    "        return x0\n",
    "    if abs(f1) < tol:\n",
    "        return x1\n",
    "\n",
    "    for _ in range(max_iter):\n",
    "        k += 1\n",
    "        # Compute the next point using the secant formula\n",
    "        x2 = x1 - f1 * (x1 - x0) / (f1 - f0)\n",
    "        f2 = f(x2)\n",
    "\n",
    "        # Check stopping criteria\n",
    "        if abs(f2) < tol:\n",
    "            return x2, f2, k\n",
    "\n",
    "        # Update for the next iteration\n",
    "        x0, f0 = x1, f1\n",
    "        x1, f1 = x2, f2"
   ]
  },
  {
   "cell_type": "code",
   "execution_count": 11,
   "metadata": {},
   "outputs": [],
   "source": [
    "def newton_raphson(f, x0, c, tol=1e-6, max_iter=100):\n",
    "    k = 0\n",
    "    \n",
    "    for _ in range(max_iter):\n",
    "        k += 1\n",
    "        fx, dfx = f(x0)\n",
    "        \n",
    "        fx = fx - c\n",
    "        \n",
    "        if abs(fx) < tol:\n",
    "            return x0, fx, k\n",
    "        x0 = x0 - fx / dfx"
   ]
  },
  {
   "cell_type": "code",
   "execution_count": 66,
   "metadata": {},
   "outputs": [
    {
     "name": "stdout",
     "output_type": "stream",
     "text": [
      "4\n",
      "tensor([0.6448], device='cuda:0', dtype=torch.float64)\n",
      "tensor([1.7421e-10], device='cuda:0', dtype=torch.float64)\n",
      "3\n"
     ]
    }
   ],
   "source": [
    "a = torch.tensor([0], device=x.device, dtype=x.dtype)\n",
    "b = torch.tensor([1], device=x.device, dtype=x.dtype)\n",
    "a, b = itp_single_eval(ff, a=a, b=b, tol=0.01)\n",
    "b_secant, val_secant, k_secant = secant_single_eval(ff, a, b, tol=1e-7, max_iter=200)\n",
    "print(b_secant)\n",
    "print(val_secant)\n",
    "print(k_secant)"
   ]
  },
  {
   "cell_type": "code",
   "execution_count": 67,
   "metadata": {},
   "outputs": [
    {
     "name": "stdout",
     "output_type": "stream",
     "text": [
      "4\n",
      "tensor([0.6448], device='cuda:0', dtype=torch.float64)\n",
      "tensor([-6.3408e-11], device='cuda:0', dtype=torch.float64)\n",
      "4\n"
     ]
    }
   ],
   "source": [
    "a = torch.tensor([0], device=x.device, dtype=x.dtype)\n",
    "b = torch.tensor([1], device=x.device, dtype=x.dtype)\n",
    "a, b = itp_single_eval(ff, a=a, b=b, tol=0.01)\n",
    "df = lambda s : kernel2.pairwise_norm(x, s)\n",
    "b_nr, s_nr, k_nr = newton_raphson(df, (a + b) / 2, c, tol=1e-7, max_iter=200)\n",
    "print(b_nr)\n",
    "print(s_nr)\n",
    "print(k_nr)"
   ]
  },
  {
   "cell_type": "code",
   "execution_count": 68,
   "metadata": {},
   "outputs": [
    {
     "name": "stdout",
     "output_type": "stream",
     "text": [
      "tensor([1.7421e-10], device='cuda:0', dtype=torch.float64)\n",
      "tensor([-6.3408e-11], device='cuda:0', dtype=torch.float64)\n"
     ]
    }
   ],
   "source": [
    "print(kernel.pairwise(x, x_scale = b_secant) - c)\n",
    "print(kernel.pairwise(x, x_scale = b_nr) - c)"
   ]
  }
 ],
 "metadata": {
  "kernelspec": {
   "display_name": "Python 3",
   "language": "python",
   "name": "python3"
  },
  "language_info": {
   "codemirror_mode": {
    "name": "ipython",
    "version": 3
   },
   "file_extension": ".py",
   "mimetype": "text/x-python",
   "name": "python",
   "nbconvert_exporter": "python",
   "pygments_lexer": "ipython3",
   "version": "3.9.20"
  }
 },
 "nbformat": 4,
 "nbformat_minor": 2
}
