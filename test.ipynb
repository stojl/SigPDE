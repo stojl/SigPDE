{
 "cells": [
  {
   "cell_type": "code",
   "execution_count": 21,
   "metadata": {},
   "outputs": [],
   "source": [
    "import torch\n",
    "import sigpde.torch as sig"
   ]
  },
  {
   "cell_type": "code",
   "execution_count": 26,
   "metadata": {},
   "outputs": [],
   "source": [
    "# Parameters\n",
    "batch_size = 4\n",
    "length = 50\n",
    "dim = 30\n",
    "dyadic_order = 2\n",
    "\n",
    "# Sample data on GPU\n",
    "x = torch.randn((batch_size, length, dim), device='cuda')\n",
    "y = torch.randn((batch_size, length, dim), device='cuda')\n",
    "\n",
    "# Define kernels\n",
    "static_kernel = sig.kernels.LinearKernel()\n",
    "kernel = sig.SigPDE(static_kernel, dyadic_order)\n",
    "robust_kernel = sig.RobustSigPDE(static_kernel, dyadic_order)"
   ]
  },
  {
   "cell_type": "code",
   "execution_count": 31,
   "metadata": {},
   "outputs": [
    {
     "data": {
      "text/plain": [
       "tensor([[2.0000, 0.8945, 0.9950, 0.9427],\n",
       "        [0.8945, 2.0000, 1.0339, 0.9872],\n",
       "        [0.9950, 1.0339, 2.0000, 1.0487],\n",
       "        [0.9427, 0.9872, 1.0487, 2.0000]], device='cuda:0')"
      ]
     },
     "execution_count": 31,
     "metadata": {},
     "output_type": "execute_result"
    }
   ],
   "source": [
    "robust_kernel.gram(x)"
   ]
  }
 ],
 "metadata": {
  "kernelspec": {
   "display_name": "Python 3",
   "language": "python",
   "name": "python3"
  },
  "language_info": {
   "codemirror_mode": {
    "name": "ipython",
    "version": 3
   },
   "file_extension": ".py",
   "mimetype": "text/x-python",
   "name": "python",
   "nbconvert_exporter": "python",
   "pygments_lexer": "ipython3",
   "version": "3.9.20"
  }
 },
 "nbformat": 4,
 "nbformat_minor": 2
}
