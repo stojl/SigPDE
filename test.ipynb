{
 "cells": [
  {
   "cell_type": "code",
   "execution_count": 1,
   "metadata": {},
   "outputs": [],
   "source": [
    "import sigpde.torch as sig\n",
    "import torch\n",
    "import math\n",
    "device = torch.device('cuda:0')"
   ]
  },
  {
   "cell_type": "code",
   "execution_count": 2,
   "metadata": {},
   "outputs": [],
   "source": [
    "def sample(n, rho=1, scale=8, T=0.5, start=0, stop=1, dt=0.005, randgrid = 30, thin=0, device=torch.device('cuda:0'), dtype=torch.float64):\n",
    "        l = math.ceil((stop - start) / dt) + 1\n",
    "        \n",
    "        ts = torch.linspace(0, 1, l, device=device, dtype=dtype)\n",
    "        \n",
    "        b1 = math.sqrt(2 / T) * torch.sin(4 * torch.pi * ts / T)\n",
    "        b2 = math.sqrt(2 / T) * torch.cos(6 * torch.pi * ts / T)\n",
    "        c = torch.randn((n, 3), dtype=dtype, device=device)\n",
    "       \n",
    "        b1 = (b1 * c[:, 1].view(n, 1))\n",
    "        b2 = (b2 * c[:, 2].view(n, 1))\n",
    "        \n",
    "        x = (b1 + b2 + c[:, 0].view(n, 1))\n",
    "       \n",
    "        c1 = (0.75 - 0.25) * torch.rand((n, 2), device=device, dtype=dtype) + 0.25\n",
    "        \n",
    "        i1 = (ts - c1[:,0].view(n, 1, 1)).view(n, -1)**2\n",
    "        i2 = (ts - c1[:,1].view(n, 1, 1)).view(n, -1)**2\n",
    "        \n",
    "        zero_column = torch.zeros(n, 1, device=device, dtype=dtype)\n",
    "        x1 = torch.cat((zero_column, (x[:,range(l-1)] * dt).cumsum(dim=1)), dim=1) * i2\n",
    "        x2 = torch.cat((zero_column, (x[:,range(l-1)] * i1[:,range(l-1)] * dt).cumsum(dim=1)), dim=1)\n",
    "        \n",
    "        y = rho * (x2 - x1) * scale\n",
    "        y = y\n",
    "        x = x\n",
    "        \n",
    "        return x.view(n, l, 1)[:, range(0, l, 2**thin),:], y.view(n, l, 1)[:, range(0, l, 2**thin),:]"
   ]
  },
  {
   "cell_type": "code",
   "execution_count": 3,
   "metadata": {},
   "outputs": [],
   "source": [
    "kernel = sig.SigPDE(sig.kernels.LinearKernel(), 3)\n",
    "kernel2 = sig.RobustSigPDE(sig.kernels.LinearKernel(), 3)"
   ]
  },
  {
   "cell_type": "code",
   "execution_count": 4,
   "metadata": {},
   "outputs": [],
   "source": [
    "def generate(batch_size, length, dimension, device = torch.device('cpu')):\n",
    "  random_walks = torch.randn(batch_size, length, dimension, dtype = torch.double, device = device) / math.sqrt(length)\n",
    "  start = torch.zeros([batch_size, 1, dimension], device=device, dtype=torch.double)\n",
    "  random_walks = torch.cat((start, random_walks), dim=1)\n",
    "  random_walks = torch.cumsum(random_walks, dim=1)\n",
    "  return random_walks\n",
    "\n",
    "def add_time(x, start=0, stop=1):\n",
    "    device = x.device\n",
    "    dtype = x.dtype\n",
    "\n",
    "    l = x.shape[1]\n",
    "\n",
    "    t = torch.linspace(start, stop, l, device=device, dtype=dtype)\n",
    "    t = t.unsqueeze(0).unsqueeze(-1)\n",
    "    return torch.cat((x, t.expand(x.shape[0], x.shape[1], 1)), dim=-1)\n",
    "\n",
    "def std_norm(x):\n",
    "    return 2 - 1 / (1 + x.log())\n",
    "\n",
    "def time_norm(x, time=True):\n",
    "    if time:\n",
    "        x = add_time(x)\n",
    "    return x / x.pow(2).sum(dim=2).sqrt().max(dim=1).values.view(x.shape[0], 1, 1)"
   ]
  },
  {
   "cell_type": "code",
   "execution_count": 68,
   "metadata": {},
   "outputs": [],
   "source": [
    "x = generate(30, 512, 50, device=device)\n",
    "y = generate(5, 512, 50, device=device)\n",
    "z, w = sample(30)\n",
    "z = add_time(z)\n",
    "x = add_time(x)\n",
    "w = time_norm(w)"
   ]
  },
  {
   "cell_type": "code",
   "execution_count": 70,
   "metadata": {},
   "outputs": [
    {
     "data": {
      "text/plain": [
       "tensor([[1.9803, 1.0124, 0.8518, 0.9472, 1.2368, 0.9040, 0.9791, 0.9140, 1.0329,\n",
       "         0.9486, 1.0131, 0.7777, 1.0544, 0.9968, 1.0565, 1.0497, 1.0097, 0.9274,\n",
       "         0.7896, 0.9643, 1.0312, 1.0144, 1.1259, 0.9607, 1.1392, 1.0092, 1.0551,\n",
       "         0.9668, 0.9458, 0.9196],\n",
       "        [1.0124, 1.9805, 1.1463, 0.9617, 0.9419, 0.9474, 1.0848, 1.0647, 1.0193,\n",
       "         0.8991, 1.0045, 0.9581, 0.9988, 1.2368, 0.9302, 0.8842, 0.9402, 1.0576,\n",
       "         1.1632, 1.0747, 1.0508, 1.0599, 0.9590, 1.1277, 0.9982, 1.0851, 1.0146,\n",
       "         1.1166, 0.9379, 1.1188],\n",
       "        [0.8518, 1.1463, 1.9798, 1.1067, 0.9520, 1.0711, 1.0121, 1.1314, 1.0179,\n",
       "         0.8960, 0.8330, 1.0884, 1.0759, 0.9521, 0.9636, 0.9134, 1.0470, 0.9633,\n",
       "         1.1782, 1.0194, 1.1366, 1.1841, 0.9771, 1.1942, 0.9369, 1.1015, 0.9237,\n",
       "         1.1485, 0.9554, 1.0660],\n",
       "        [0.9472, 0.9617, 1.1067, 1.9801, 0.9663, 1.0558, 0.8677, 1.0745, 0.8669,\n",
       "         0.9578, 0.9526, 0.9926, 0.8627, 1.0486, 1.0312, 1.1740, 0.9848, 0.9202,\n",
       "         1.0845, 1.0567, 0.9371, 1.0239, 1.1751, 0.9126, 0.8950, 1.0296, 0.9454,\n",
       "         0.9452, 0.9962, 1.2002],\n",
       "        [1.2368, 0.9419, 0.9520, 0.9663, 1.9795, 0.9197, 0.9776, 0.9854, 0.9822,\n",
       "         0.9121, 0.9885, 1.1037, 1.2407, 1.0771, 1.0896, 0.9953, 0.9892, 0.9829,\n",
       "         0.8470, 0.9971, 1.0795, 1.0474, 1.0967, 0.9076, 1.2150, 1.0054, 1.1578,\n",
       "         1.0527, 0.8906, 0.8876],\n",
       "        [0.9040, 0.9474, 1.0711, 1.0558, 0.9197, 1.9793, 1.0470, 0.9433, 1.1531,\n",
       "         1.0203, 0.9144, 1.0125, 0.9315, 1.0039, 1.1474, 0.9126, 1.1054, 1.0414,\n",
       "         1.0245, 1.0059, 1.1771, 0.8884, 1.0216, 1.0710, 0.9585, 1.0278, 0.9677,\n",
       "         0.9997, 1.1159, 1.0204],\n",
       "        [0.9791, 1.0848, 1.0121, 0.8677, 0.9776, 1.0470, 1.9797, 1.1030, 1.0065,\n",
       "         0.9875, 0.9750, 0.9739, 0.9407, 1.0099, 1.0512, 0.8743, 1.0023, 1.0200,\n",
       "         1.0481, 0.8425, 1.0797, 0.9954, 0.8182, 0.8667, 0.9294, 1.1848, 1.0864,\n",
       "         1.0710, 0.8495, 0.9558],\n",
       "        [0.9140, 1.0647, 1.1314, 1.0745, 0.9854, 0.9433, 1.1030, 1.9788, 1.0575,\n",
       "         1.1246, 0.8454, 1.1644, 1.1320, 1.0126, 0.9648, 1.0035, 1.0711, 0.8972,\n",
       "         1.2536, 1.2215, 0.9661, 1.1565, 0.9720, 1.0271, 0.9684, 1.2140, 1.1818,\n",
       "         1.0600, 1.0090, 1.0585],\n",
       "        [1.0329, 1.0193, 1.0179, 0.8669, 0.9822, 1.1531, 1.0065, 1.0575, 1.9799,\n",
       "         1.0755, 0.8253, 1.1026, 1.0576, 0.8414, 0.9925, 1.0772, 1.2172, 0.9914,\n",
       "         0.8854, 1.0138, 1.1282, 1.1692, 1.0398, 1.0630, 1.1965, 0.8033, 0.9947,\n",
       "         1.0680, 1.0729, 0.9397],\n",
       "        [0.9486, 0.8991, 0.8960, 0.9578, 0.9121, 1.0203, 0.9875, 1.1246, 1.0755,\n",
       "         1.9795, 1.0439, 1.0082, 1.0195, 1.0103, 0.9450, 1.0864, 1.0066, 0.9561,\n",
       "         1.0080, 1.1663, 0.9188, 1.0449, 0.9591, 1.1131, 0.8252, 0.9244, 0.9849,\n",
       "         1.0875, 1.0732, 0.9188],\n",
       "        [1.0131, 1.0045, 0.8330, 0.9526, 0.9885, 0.9144, 0.9750, 0.8454, 0.8253,\n",
       "         1.0439, 1.9801, 0.8678, 0.9369, 0.9876, 0.9052, 0.9783, 0.9244, 0.9519,\n",
       "         0.8589, 0.9915, 0.9719, 0.8657, 0.9473, 1.0052, 0.9856, 1.1033, 1.0323,\n",
       "         0.8869, 1.0031, 0.9785],\n",
       "        [0.7777, 0.9581, 1.0884, 0.9926, 1.1037, 1.0125, 0.9739, 1.1644, 1.1026,\n",
       "         1.0082, 0.8678, 1.9808, 1.1670, 1.0576, 0.9930, 1.0454, 1.0196, 1.0628,\n",
       "         1.1667, 1.1615, 1.1146, 0.9619, 1.0737, 1.0272, 1.1834, 0.8840, 1.1108,\n",
       "         1.0524, 1.1195, 1.0563],\n",
       "        [1.0544, 0.9988, 1.0759, 0.8627, 1.2407, 0.9315, 0.9407, 1.1320, 1.0576,\n",
       "         1.0195, 0.9369, 1.1670, 1.9797, 1.0484, 0.9492, 0.9973, 1.0304, 0.9967,\n",
       "         0.9485, 1.1687, 1.1613, 1.1303, 1.1141, 0.9919, 1.2810, 1.0095, 1.0297,\n",
       "         1.1883, 1.0111, 0.8923],\n",
       "        [0.9968, 1.2368, 0.9521, 1.0486, 1.0771, 1.0039, 1.0099, 1.0126, 0.8414,\n",
       "         1.0103, 0.9876, 1.0576, 1.0484, 1.9791, 1.1846, 1.0707, 0.8523, 1.1747,\n",
       "         1.1305, 1.0245, 0.8122, 0.7086, 1.2053, 0.9525, 0.9471, 0.9682, 0.9420,\n",
       "         1.1302, 1.0398, 0.9910],\n",
       "        [1.0565, 0.9302, 0.9636, 1.0312, 1.0896, 1.1474, 1.0512, 0.9648, 0.9925,\n",
       "         0.9450, 0.9052, 0.9930, 0.9492, 1.1846, 1.9792, 1.1260, 0.9985, 1.0250,\n",
       "         1.1405, 0.9625, 1.0476, 0.9259, 1.2185, 1.1048, 1.0379, 1.0098, 0.8737,\n",
       "         0.9364, 1.0339, 1.1013],\n",
       "        [1.0497, 0.8842, 0.9134, 1.1740, 0.9953, 0.9126, 0.8743, 1.0035, 1.0772,\n",
       "         1.0864, 0.9783, 1.0454, 0.9973, 1.0707, 1.1260, 1.9806, 1.0060, 0.9629,\n",
       "         0.9471, 1.1146, 0.9010, 1.0124, 1.0206, 1.1855, 1.0901, 0.8293, 0.9569,\n",
       "         1.0787, 1.0568, 1.1556],\n",
       "        [1.0097, 0.9402, 1.0470, 0.9848, 0.9892, 1.1054, 1.0023, 1.0711, 1.2172,\n",
       "         1.0066, 0.9244, 1.0196, 1.0304, 0.8523, 0.9985, 1.0060, 1.9807, 0.8974,\n",
       "         1.0004, 1.0011, 0.9961, 1.0301, 0.9745, 0.9159, 1.0379, 0.9886, 1.0058,\n",
       "         0.9533, 1.1024, 1.1054],\n",
       "        [0.9274, 1.0576, 0.9633, 0.9202, 0.9829, 1.0414, 1.0200, 0.8972, 0.9914,\n",
       "         0.9561, 0.9519, 1.0628, 0.9967, 1.1747, 1.0250, 0.9629, 0.8974, 1.9804,\n",
       "         0.9771, 1.0502, 1.0648, 0.9130, 0.9982, 0.9754, 0.9821, 0.9219, 1.1017,\n",
       "         1.0682, 1.0013, 1.0798],\n",
       "        [0.7896, 1.1632, 1.1782, 1.0845, 0.8470, 1.0245, 1.0481, 1.2536, 0.8854,\n",
       "         1.0080, 0.8589, 1.1667, 0.9485, 1.1305, 1.1405, 0.9471, 1.0004, 0.9771,\n",
       "         1.9806, 1.2389, 0.9974, 0.9573, 1.0748, 0.9913, 0.8574, 1.1873, 1.1035,\n",
       "         1.1774, 1.1134, 1.1771],\n",
       "        [0.9643, 1.0747, 1.0194, 1.0567, 0.9971, 1.0059, 0.8425, 1.2215, 1.0138,\n",
       "         1.1663, 0.9915, 1.1615, 1.1687, 1.0245, 0.9625, 1.1146, 1.0011, 1.0502,\n",
       "         1.2389, 1.9809, 1.0756, 0.9525, 1.0792, 1.0480, 1.0777, 1.0241, 1.0674,\n",
       "         1.0986, 1.2457, 1.2991],\n",
       "        [1.0312, 1.0508, 1.1366, 0.9371, 1.0795, 1.1771, 1.0797, 0.9661, 1.1282,\n",
       "         0.9188, 0.9719, 1.1146, 1.1613, 0.8122, 1.0476, 0.9010, 0.9961, 1.0648,\n",
       "         0.9974, 1.0756, 1.9807, 1.2799, 0.9816, 1.2123, 1.0703, 1.1278, 1.1024,\n",
       "         0.9794, 1.2503, 1.0611],\n",
       "        [1.0144, 1.0599, 1.1841, 1.0239, 1.0474, 0.8884, 0.9954, 1.1565, 1.1692,\n",
       "         1.0449, 0.8657, 0.9619, 1.1303, 0.7086, 0.9259, 1.0124, 1.0301, 0.9130,\n",
       "         0.9573, 0.9525, 1.2799, 1.9800, 0.8761, 1.0610, 0.9785, 1.0455, 1.1186,\n",
       "         1.0344, 0.8690, 0.9580],\n",
       "        [1.1259, 0.9590, 0.9771, 1.1751, 1.0967, 1.0216, 0.8182, 0.9720, 1.0398,\n",
       "         0.9591, 0.9473, 1.0737, 1.1141, 1.2053, 1.2185, 1.0206, 0.9745, 0.9982,\n",
       "         1.0748, 1.0792, 0.9816, 0.8761, 1.9786, 1.0336, 1.0021, 0.9517, 0.9944,\n",
       "         0.8773, 0.9665, 1.0353],\n",
       "        [0.9607, 1.1277, 1.1942, 0.9126, 0.9076, 1.0710, 0.8667, 1.0271, 1.0630,\n",
       "         1.1131, 1.0052, 1.0272, 0.9919, 0.9525, 1.1048, 1.1855, 0.9159, 0.9754,\n",
       "         0.9913, 1.0480, 1.2123, 1.0610, 1.0336, 1.9802, 1.0299, 1.1092, 0.8746,\n",
       "         0.9394, 1.1914, 1.0731],\n",
       "        [1.1392, 0.9982, 0.9369, 0.8950, 1.2150, 0.9585, 0.9294, 0.9684, 1.1965,\n",
       "         0.8252, 0.9856, 1.1834, 1.2810, 0.9471, 1.0379, 1.0901, 1.0379, 0.9821,\n",
       "         0.8574, 1.0777, 1.0703, 0.9785, 1.0021, 1.0299, 1.9789, 0.8699, 0.9777,\n",
       "         1.0684, 1.1442, 1.0531],\n",
       "        [1.0092, 1.0851, 1.1015, 1.0296, 1.0054, 1.0278, 1.1848, 1.2140, 0.8033,\n",
       "         0.9244, 1.1033, 0.8840, 1.0095, 0.9682, 1.0098, 0.8293, 0.9886, 0.9219,\n",
       "         1.1873, 1.0241, 1.1278, 1.0455, 0.9517, 1.1092, 0.8699, 1.9807, 1.1530,\n",
       "         0.8691, 0.9724, 1.0117],\n",
       "        [1.0551, 1.0146, 0.9237, 0.9454, 1.1578, 0.9677, 1.0864, 1.1818, 0.9947,\n",
       "         0.9849, 1.0323, 1.1108, 1.0297, 0.9420, 0.8737, 0.9569, 1.0058, 1.1017,\n",
       "         1.1035, 1.0674, 1.1024, 1.1186, 0.9944, 0.8746, 0.9777, 1.1530, 1.9798,\n",
       "         1.0667, 0.8988, 0.9269],\n",
       "        [0.9668, 1.1166, 1.1485, 0.9452, 1.0527, 0.9997, 1.0710, 1.0600, 1.0680,\n",
       "         1.0875, 0.8869, 1.0524, 1.1883, 1.1302, 0.9364, 1.0787, 0.9533, 1.0682,\n",
       "         1.1774, 1.0986, 0.9794, 1.0344, 0.8773, 0.9394, 1.0684, 0.8691, 1.0667,\n",
       "         1.9799, 1.0435, 0.8437],\n",
       "        [0.9458, 0.9379, 0.9554, 0.9962, 0.8906, 1.1159, 0.8495, 1.0090, 1.0729,\n",
       "         1.0732, 1.0031, 1.1195, 1.0111, 1.0398, 1.0339, 1.0568, 1.1024, 1.0013,\n",
       "         1.1134, 1.2457, 1.2503, 0.8690, 0.9665, 1.1914, 1.1442, 0.9724, 0.8988,\n",
       "         1.0435, 1.9798, 1.2136],\n",
       "        [0.9196, 1.1188, 1.0660, 1.2002, 0.8876, 1.0204, 0.9558, 1.0585, 0.9397,\n",
       "         0.9188, 0.9785, 1.0563, 0.8923, 0.9910, 1.1013, 1.1556, 1.1054, 1.0798,\n",
       "         1.1771, 1.2991, 1.0611, 0.9580, 1.0353, 1.0731, 1.0531, 1.0117, 0.9269,\n",
       "         0.8437, 1.2136, 1.9797]], device='cuda:0', dtype=torch.float64)"
      ]
     },
     "execution_count": 70,
     "metadata": {},
     "output_type": "execute_result"
    }
   ],
   "source": [
    "kernel = sig.SigPDE(sig.kernels.LinearKernel(), 1)\n",
    "kernel2 = sig.RobustSigPDE(sig.kernels.LinearKernel(), 2)\n",
    "kernel2.gram(x)"
   ]
  },
  {
   "cell_type": "code",
   "execution_count": 21,
   "metadata": {},
   "outputs": [
    {
     "data": {
      "text/plain": [
       "tensor([8.0374], device='cuda:0', dtype=torch.float64)"
      ]
     },
     "execution_count": 21,
     "metadata": {},
     "output_type": "execute_result"
    }
   ],
   "source": [
    "kernel.pairwise(y[0].view(1, -1, 50), y[1].view(1, -1, 50))"
   ]
  },
  {
   "cell_type": "code",
   "execution_count": 14,
   "metadata": {},
   "outputs": [
    {
     "data": {
      "text/plain": [
       "tensor([0.1089, 0.1120, 0.1146, 0.1253, 0.1281, 0.1172, 0.1295, 0.1109, 0.1185,\n",
       "        0.1186, 0.1094, 0.1211, 0.1047, 0.1156, 0.1309, 0.1050, 0.1092, 0.1263,\n",
       "        0.1119, 0.1309, 0.1103, 0.1071, 0.1167, 0.1058, 0.1179, 0.1187, 0.1244,\n",
       "        0.1144, 0.1223, 0.1219], device='cuda:0', dtype=torch.float64)"
      ]
     },
     "execution_count": 14,
     "metadata": {},
     "output_type": "execute_result"
    }
   ],
   "source": [
    "kernel2.normalization(x)"
   ]
  },
  {
   "cell_type": "code",
   "execution_count": 124,
   "metadata": {},
   "outputs": [],
   "source": [
    "z, w = sample(1)\n",
    "z = add_time(z)\n",
    "c = std_norm(kernel.pairwise(z))\n",
    "ff = lambda s : kernel.pairwise(z, x_scale=s) - c"
   ]
  },
  {
   "cell_type": "code",
   "execution_count": 125,
   "metadata": {},
   "outputs": [],
   "source": [
    "def bisection_single_eval(f, a, b, tol=1e-6, max_iter=100):\n",
    "    fa = f(a)\n",
    "    fb = f(b)\n",
    "    k = 0\n",
    "    if fa * fb >= 0:\n",
    "        raise ValueError(\"Function values at the endpoints must have opposite signs.\")\n",
    "    \n",
    "    for _ in range(max_iter):\n",
    "        k += 1\n",
    "        # Compute midpoint\n",
    "        c = (a + b) / 2\n",
    "        fc = f(c)\n",
    "\n",
    "        # Update the interval and reuse function evaluations\n",
    "        if fa * fc < 0:\n",
    "            b, fb = c, fc  # Update the right endpoint\n",
    "        else:\n",
    "            a, fa = c, fc  # Update the left endpoint\n",
    "            \n",
    "        # Stopping criterion based on function value\n",
    "        if abs(fc) < tol:\n",
    "            print(k)\n",
    "            return a, b\n",
    "\n",
    "    raise RuntimeError(\"Maximum number of iterations reached without convergence.\")"
   ]
  },
  {
   "cell_type": "code",
   "execution_count": 126,
   "metadata": {},
   "outputs": [],
   "source": [
    "def itp_single_eval(f, a=0, b=1,tol=1e-6, max_iter=100):\n",
    "    fa = f(a)\n",
    "    fb = f(b)\n",
    "    k = 0\n",
    "\n",
    "    if fa * fb >= 0:\n",
    "        raise ValueError(\"Function values at the endpoints must have opposite signs.\")\n",
    "    \n",
    "    for _ in range(max_iter):\n",
    "        k += 1\n",
    "        # Midpoint and interpolation calculation\n",
    "        mid = (a + b) / 2\n",
    "        interp = (a * fb - b * fa) / (fb - fa)\n",
    "        t = 0.2  # Blending parameter (adjust if necessary)\n",
    "        x = (1 - t) * mid + t * interp\n",
    "\n",
    "        fx = f(x)\n",
    "\n",
    "        # Update the interval and reuse function evaluations\n",
    "        if fx * fa < 0:\n",
    "            b, fb = x, fx  # Update the right endpoint\n",
    "        else:\n",
    "            a, fa = x, fx  # Update the left endpoint\n",
    "            \n",
    "        if abs(fx) < tol:  # Stopping based on function value\n",
    "            print(k)\n",
    "            return a, b\n",
    "            \n",
    "    return (a + b) / 2, k"
   ]
  },
  {
   "cell_type": "code",
   "execution_count": 127,
   "metadata": {},
   "outputs": [],
   "source": [
    "def secant_single_eval(f, x0, x1, tol=1e-6, max_iter=100):\n",
    "    f0 = f(x0)\n",
    "    f1 = f(x1)\n",
    "    k = 0\n",
    "\n",
    "    if abs(f0) < tol:\n",
    "        return x0\n",
    "    if abs(f1) < tol:\n",
    "        return x1\n",
    "\n",
    "    for _ in range(max_iter):\n",
    "        k += 1\n",
    "        # Compute the next point using the secant formula\n",
    "        x2 = x1 - f1 * (x1 - x0) / (f1 - f0)\n",
    "        f2 = f(x2)\n",
    "\n",
    "        # Check stopping criteria\n",
    "        if abs(f2) < tol:\n",
    "            return x2, f2, k\n",
    "\n",
    "        # Update for the next iteration\n",
    "        x0, f0 = x1, f1\n",
    "        x1, f1 = x2, f2"
   ]
  },
  {
   "cell_type": "code",
   "execution_count": 128,
   "metadata": {},
   "outputs": [],
   "source": [
    "def itp_optimized(f, a, b, tol, max_iter, alpha=0.2, beta=1.0):\n",
    "    # Initial evaluations\n",
    "    f_a = f(a)\n",
    "    f_b = f(b)\n",
    "    k = 0\n",
    "    if f_a * f_b > 0:\n",
    "        raise ValueError(\"Function must have opposite signs at endpoints a and b.\")\n",
    "\n",
    "    for iteration in range(max_iter):\n",
    "        k += 1\n",
    "        # Compute midpoint and its function value (reuse evaluations when possible)\n",
    "        m = (a + b) / 2\n",
    "        f_m = f(m) if iteration == 0 else f_m  # First iteration requires f(m)\n",
    "\n",
    "        # Interpolation\n",
    "        delta = beta * (b - a) / 2\n",
    "        g = m - (1 if f_m > 0 else -1) * min(abs(f_m) * delta, delta)\n",
    "\n",
    "        # Truncation\n",
    "        t = m + (g - m) * min(1, alpha * (b - a))\n",
    "\n",
    "        # Evaluate f(t) only once\n",
    "        f_t = f(t)\n",
    "\n",
    "        # Update bounds and reuse evaluations\n",
    "        if f_a * f_t < 0:\n",
    "            b, f_b = t, f_t\n",
    "        else:\n",
    "            a, f_a = t, f_t\n",
    "            \n",
    "        # Check stopping criteria\n",
    "        if f_t == 0 or abs(f_t) < tol:\n",
    "            print(k)\n",
    "            return a, b\n",
    "\n",
    "        # Update f_m for reuse in the next iteration\n",
    "        f_m = f_m if t == m else f(t)\n"
   ]
  },
  {
   "cell_type": "code",
   "execution_count": 129,
   "metadata": {},
   "outputs": [],
   "source": [
    "def newton_raphson(f, x0, c, tol=1e-6, max_iter=100):\n",
    "    k = 0\n",
    "    \n",
    "    for _ in range(max_iter):\n",
    "        k += 1\n",
    "        fx, dfx = f(x0)\n",
    "        \n",
    "        fx = fx - c\n",
    "        \n",
    "        if abs(fx) < tol:\n",
    "            return x0, fx, k\n",
    "        x0 = x0 - fx / dfx"
   ]
  },
  {
   "cell_type": "code",
   "execution_count": 146,
   "metadata": {},
   "outputs": [],
   "source": [
    "z, w = sample(1)\n",
    "z = add_time(z)\n",
    "c = std_norm(kernel.pairwise(z))\n",
    "ff = lambda s : kernel.pairwise(z, x_scale=s) - c"
   ]
  },
  {
   "cell_type": "code",
   "execution_count": 133,
   "metadata": {},
   "outputs": [
    {
     "data": {
      "text/plain": [
       "tensor([1.9723], device='cuda:0', dtype=torch.float64)"
      ]
     },
     "execution_count": 133,
     "metadata": {},
     "output_type": "execute_result"
    }
   ],
   "source": [
    "c"
   ]
  },
  {
   "cell_type": "code",
   "execution_count": 147,
   "metadata": {},
   "outputs": [
    {
     "name": "stdout",
     "output_type": "stream",
     "text": [
      "10\n",
      "tensor([0.3542], device='cuda:0', dtype=torch.float64)\n",
      "tensor([-4.9490e-09], device='cuda:0', dtype=torch.float64)\n",
      "2\n"
     ]
    }
   ],
   "source": [
    "a = torch.tensor([0], device=x.device, dtype=x.dtype)\n",
    "b = torch.tensor([1], device=x.device, dtype=x.dtype)\n",
    "a, b = bisection_single_eval(ff, a=a, b=b, tol=0.01)\n",
    "b_secant, val_secant, k_secant = secant_single_eval(ff, a, b, tol=1e-7, max_iter=200)\n",
    "print(b_secant)\n",
    "print(val_secant)\n",
    "print(k_secant)"
   ]
  },
  {
   "cell_type": "code",
   "execution_count": 135,
   "metadata": {},
   "outputs": [
    {
     "name": "stdout",
     "output_type": "stream",
     "text": [
      "12\n",
      "tensor([0.5222], device='cuda:0', dtype=torch.float64)\n",
      "tensor([-2.7587e-08], device='cuda:0', dtype=torch.float64)\n",
      "2\n"
     ]
    }
   ],
   "source": [
    "a = torch.tensor([0], device=x.device, dtype=x.dtype)\n",
    "b = torch.tensor([1], device=x.device, dtype=x.dtype)\n",
    "a, b = bisection_single_eval(ff, a=a, b=b, tol=0.01, max_iter=100)\n",
    "b_secant, val_secant, k_secant = secant_single_eval(ff, a, b, tol=1e-7, max_iter=200)\n",
    "print(b_secant)\n",
    "print(val_secant)\n",
    "print(k_secant)"
   ]
  },
  {
   "cell_type": "code",
   "execution_count": 134,
   "metadata": {},
   "outputs": [
    {
     "name": "stdout",
     "output_type": "stream",
     "text": [
      "10\n"
     ]
    },
    {
     "ename": "RuntimeError",
     "evalue": "Boolean value of Tensor with more than one value is ambiguous",
     "output_type": "error",
     "traceback": [
      "\u001b[0;31m---------------------------------------------------------------------------\u001b[0m",
      "\u001b[0;31mRuntimeError\u001b[0m                              Traceback (most recent call last)",
      "Cell \u001b[0;32mIn [134], line 6\u001b[0m\n\u001b[1;32m      4\u001b[0m \u001b[38;5;66;03m#a, b = itp_optimized(ff, a=a, b=b, tol=0.01, max_iter=100)\u001b[39;00m\n\u001b[1;32m      5\u001b[0m df \u001b[38;5;241m=\u001b[39m \u001b[38;5;28;01mlambda\u001b[39;00m s : kernel2\u001b[38;5;241m.\u001b[39mpairwise_norm(x, s)\n\u001b[0;32m----> 6\u001b[0m b_nr, s_nr, k_nr \u001b[38;5;241m=\u001b[39m \u001b[43mnewton_raphson\u001b[49m\u001b[43m(\u001b[49m\u001b[43mdf\u001b[49m\u001b[43m,\u001b[49m\u001b[43m \u001b[49m\u001b[43m(\u001b[49m\u001b[43ma\u001b[49m\u001b[43m \u001b[49m\u001b[38;5;241;43m+\u001b[39;49m\u001b[43m \u001b[49m\u001b[43mb\u001b[49m\u001b[43m)\u001b[49m\u001b[43m \u001b[49m\u001b[38;5;241;43m/\u001b[39;49m\u001b[43m \u001b[49m\u001b[38;5;241;43m2\u001b[39;49m\u001b[43m,\u001b[49m\u001b[43m \u001b[49m\u001b[43mc\u001b[49m\u001b[43m,\u001b[49m\u001b[43m \u001b[49m\u001b[43mtol\u001b[49m\u001b[38;5;241;43m=\u001b[39;49m\u001b[38;5;241;43m1e-7\u001b[39;49m\u001b[43m,\u001b[49m\u001b[43m \u001b[49m\u001b[43mmax_iter\u001b[49m\u001b[38;5;241;43m=\u001b[39;49m\u001b[38;5;241;43m200\u001b[39;49m\u001b[43m)\u001b[49m\n\u001b[1;32m      7\u001b[0m \u001b[38;5;28mprint\u001b[39m(b_nr)\n\u001b[1;32m      8\u001b[0m \u001b[38;5;28mprint\u001b[39m(s_nr)\n",
      "Cell \u001b[0;32mIn [129], line 10\u001b[0m, in \u001b[0;36mnewton_raphson\u001b[0;34m(f, x0, c, tol, max_iter)\u001b[0m\n\u001b[1;32m      6\u001b[0m fx, dfx \u001b[38;5;241m=\u001b[39m f(x0)\n\u001b[1;32m      8\u001b[0m fx \u001b[38;5;241m=\u001b[39m fx \u001b[38;5;241m-\u001b[39m c\n\u001b[0;32m---> 10\u001b[0m \u001b[38;5;28;01mif\u001b[39;00m \u001b[38;5;28mabs\u001b[39m(fx) \u001b[38;5;241m<\u001b[39m tol:\n\u001b[1;32m     11\u001b[0m     \u001b[38;5;28;01mreturn\u001b[39;00m x0, fx, k\n\u001b[1;32m     12\u001b[0m x0 \u001b[38;5;241m=\u001b[39m x0 \u001b[38;5;241m-\u001b[39m fx \u001b[38;5;241m/\u001b[39m dfx\n",
      "\u001b[0;31mRuntimeError\u001b[0m: Boolean value of Tensor with more than one value is ambiguous"
     ]
    }
   ],
   "source": [
    "a = torch.tensor([0], device=x.device, dtype=x.dtype)\n",
    "b = torch.tensor([1], device=x.device, dtype=x.dtype)\n",
    "a, b = itp_single_eval(ff, a=a, b=b, tol=0.01)\n",
    "#a, b = itp_optimized(ff, a=a, b=b, tol=0.01, max_iter=100)\n",
    "df = lambda s : kernel2.pairwise_norm(x, s)\n",
    "b_nr, s_nr, k_nr = newton_raphson(df, (a + b) / 2, c, tol=1e-7, max_iter=200)\n",
    "print(b_nr)\n",
    "print(s_nr)\n",
    "print(k_nr)"
   ]
  },
  {
   "cell_type": "code",
   "execution_count": 68,
   "metadata": {},
   "outputs": [
    {
     "name": "stdout",
     "output_type": "stream",
     "text": [
      "tensor([1.7421e-10], device='cuda:0', dtype=torch.float64)\n",
      "tensor([-6.3408e-11], device='cuda:0', dtype=torch.float64)\n"
     ]
    }
   ],
   "source": [
    "print(kernel.pairwise(x, x_scale = b_secant) - c)\n",
    "print(kernel.pairwise(x, x_scale = b_nr) - c)"
   ]
  }
 ],
 "metadata": {
  "kernelspec": {
   "display_name": "Python 3",
   "language": "python",
   "name": "python3"
  },
  "language_info": {
   "codemirror_mode": {
    "name": "ipython",
    "version": 3
   },
   "file_extension": ".py",
   "mimetype": "text/x-python",
   "name": "python",
   "nbconvert_exporter": "python",
   "pygments_lexer": "ipython3",
   "version": "3.9.20"
  }
 },
 "nbformat": 4,
 "nbformat_minor": 2
}
