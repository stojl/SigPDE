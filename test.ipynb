{
 "cells": [
  {
   "cell_type": "code",
   "execution_count": 1,
   "metadata": {},
   "outputs": [],
   "source": [
    "import sigpde.torch as sig\n",
    "import torch\n",
    "import math\n",
    "device = torch.device('cuda:0')"
   ]
  },
  {
   "cell_type": "code",
   "execution_count": 23,
   "metadata": {},
   "outputs": [],
   "source": [
    "kernel = sig.SigPDE(sig.kernels.LinearKernel(), 3)\n",
    "kernel2 = sig.RobustSigPDE(sig.kernels.LinearKernel(), 3)"
   ]
  },
  {
   "cell_type": "code",
   "execution_count": 3,
   "metadata": {},
   "outputs": [],
   "source": [
    "def generate(batch_size, length, dimension, device = torch.device('cpu')):\n",
    "  random_walks = torch.randn(batch_size, length, dimension, dtype = torch.double, device = device) / math.sqrt(length)\n",
    "  start = torch.zeros([batch_size, 1, dimension], device=device, dtype=torch.double)\n",
    "  random_walks = torch.cat((start, random_walks), dim=1)\n",
    "  random_walks = torch.cumsum(random_walks, dim=1)\n",
    "  return random_walks\n",
    "\n",
    "def add_time(x, start=0, stop=1):\n",
    "    device = x.device\n",
    "    dtype = x.dtype\n",
    "\n",
    "    l = x.shape[1]\n",
    "\n",
    "    t = torch.linspace(start, stop, l, device=device, dtype=dtype)\n",
    "    t = t.unsqueeze(0).unsqueeze(-1)\n",
    "    return torch.cat((x, t.expand(x.shape[0], x.shape[1], 1)), dim=-1)\n",
    "\n",
    "def time_norm(x, time=True):\n",
    "    if time:\n",
    "        x = add_time(x)\n",
    "    return x / x.pow(2).sum(dim=2).sqrt().max(dim=1).values.view(x.shape[0], 1, 1)"
   ]
  },
  {
   "cell_type": "code",
   "execution_count": 56,
   "metadata": {},
   "outputs": [],
   "source": [
    "x = generate(4, 512, 50, device=device)\n",
    "y = generate(4, 512, 50, device=device)"
   ]
  },
  {
   "cell_type": "code",
   "execution_count": 53,
   "metadata": {},
   "outputs": [],
   "source": [
    "x = time_norm(x)\n",
    "y = time_norm(y)"
   ]
  },
  {
   "cell_type": "code",
   "execution_count": 54,
   "metadata": {},
   "outputs": [
    {
     "data": {
      "text/plain": [
       "tensor([2.4937, 2.6119, 2.5805, 2.4962], device='cuda:0', dtype=torch.float64)"
      ]
     },
     "execution_count": 54,
     "metadata": {},
     "output_type": "execute_result"
    }
   ],
   "source": [
    "kernel.pairwise(x)"
   ]
  },
  {
   "cell_type": "code",
   "execution_count": 62,
   "metadata": {},
   "outputs": [
    {
     "data": {
      "text/plain": [
       "tensor([1.0264, 0.8751, 1.0394, 1.2287], device='cuda:0', dtype=torch.float64)"
      ]
     },
     "execution_count": 62,
     "metadata": {},
     "output_type": "execute_result"
    }
   ],
   "source": [
    "kernel2.pairwise(x, y, bisections=7, nr_iterations=0)"
   ]
  },
  {
   "cell_type": "code",
   "execution_count": null,
   "metadata": {},
   "outputs": [],
   "source": []
  }
 ],
 "metadata": {
  "kernelspec": {
   "display_name": "Python 3",
   "language": "python",
   "name": "python3"
  },
  "language_info": {
   "codemirror_mode": {
    "name": "ipython",
    "version": 3
   },
   "file_extension": ".py",
   "mimetype": "text/x-python",
   "name": "python",
   "nbconvert_exporter": "python",
   "pygments_lexer": "ipython3",
   "version": "3.9.20"
  }
 },
 "nbformat": 4,
 "nbformat_minor": 2
}
