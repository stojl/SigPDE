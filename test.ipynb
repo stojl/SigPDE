{
 "cells": [
  {
   "cell_type": "code",
   "execution_count": 1,
   "metadata": {},
   "outputs": [],
   "source": [
    "import sigpde.torch as sig\n",
    "import torch\n",
    "import math\n",
    "from samplers import *\n",
    "device = torch.device('cuda:0')"
   ]
  },
  {
   "cell_type": "code",
   "execution_count": 2,
   "metadata": {},
   "outputs": [],
   "source": [
    "kernel = sig.SigPDE(sig.kernels.LinearKernel(), 1)\n",
    "kernel2 = sig.RobustSigPDE(sig.kernels.LinearKernel(), 1)"
   ]
  },
  {
   "cell_type": "code",
   "execution_count": 36,
   "metadata": {},
   "outputs": [],
   "source": [
    "x = generate(100, 100, 50, device=device)\n",
    "y = generate(5, 512, 50, device=device)\n",
    "z, w = sample(200)\n",
    "z = add_time(z)\n",
    "x = time_norm(x)\n",
    "w = time_norm(w)"
   ]
  },
  {
   "cell_type": "code",
   "execution_count": 37,
   "metadata": {},
   "outputs": [
    {
     "data": {
      "text/plain": [
       "tensor([[1.4853, 0.9751, 0.9099,  ..., 1.0630, 1.0384, 1.0227],\n",
       "        [0.9751, 1.4847, 1.0456,  ..., 1.0239, 1.0841, 0.9073],\n",
       "        [0.9099, 1.0456, 1.4946,  ..., 1.0505, 1.0327, 0.9310],\n",
       "        ...,\n",
       "        [1.0630, 1.0239, 1.0505,  ..., 1.4670, 0.8951, 0.8565],\n",
       "        [1.0384, 1.0841, 1.0327,  ..., 0.8951, 1.4743, 0.9615],\n",
       "        [1.0227, 0.9073, 0.9310,  ..., 0.8565, 0.9615, 1.4873]],\n",
       "       device='cuda:0', dtype=torch.float64)"
      ]
     },
     "execution_count": 37,
     "metadata": {},
     "output_type": "execute_result"
    }
   ],
   "source": [
    "kernel2.gram(x, max_batch=1000)"
   ]
  },
  {
   "cell_type": "code",
   "execution_count": 54,
   "metadata": {},
   "outputs": [],
   "source": [
    "z, w = sample(1)\n",
    "z = add_time(z)\n",
    "c = std_norm(kernel.pairwise(z))\n",
    "ff = lambda s : kernel.pairwise(z, x_scale=s) - c"
   ]
  },
  {
   "cell_type": "code",
   "execution_count": 55,
   "metadata": {},
   "outputs": [],
   "source": [
    "def bisection_single_eval(f, a, b, tol=1e-6, max_iter=100):\n",
    "    fa = f(a)\n",
    "    fb = f(b)\n",
    "    k = 0\n",
    "    if fa * fb >= 0:\n",
    "        raise ValueError(\"Function values at the endpoints must have opposite signs.\")\n",
    "    \n",
    "    for _ in range(max_iter):\n",
    "        k += 1\n",
    "        # Compute midpoint\n",
    "        c = (a + b) / 2\n",
    "        fc = f(c)\n",
    "\n",
    "        # Update the interval and reuse function evaluations\n",
    "        if fa * fc < 0:\n",
    "            b, fb = c, fc  # Update the right endpoint\n",
    "        else:\n",
    "            a, fa = c, fc  # Update the left endpoint\n",
    "            \n",
    "        # Stopping criterion based on function value\n",
    "        if abs(fc) < tol:\n",
    "            print(k)\n",
    "            return a, b\n",
    "\n",
    "    raise RuntimeError(\"Maximum number of iterations reached without convergence.\")"
   ]
  },
  {
   "cell_type": "code",
   "execution_count": 56,
   "metadata": {},
   "outputs": [],
   "source": [
    "def itp_single_eval(f, a=0, b=1,tol=1e-6, max_iter=100):\n",
    "    fa = f(a)\n",
    "    fb = f(b)\n",
    "    k = 0\n",
    "\n",
    "    if fa * fb >= 0:\n",
    "        raise ValueError(\"Function values at the endpoints must have opposite signs.\")\n",
    "    \n",
    "    for _ in range(max_iter):\n",
    "        k += 1\n",
    "        # Midpoint and interpolation calculation\n",
    "        mid = (a + b) / 2\n",
    "        interp = (a * fb - b * fa) / (fb - fa)\n",
    "        t = 0.2  # Blending parameter (adjust if necessary)\n",
    "        x = (1 - t) * mid + t * interp\n",
    "\n",
    "        fx = f(x)\n",
    "\n",
    "        # Update the interval and reuse function evaluations\n",
    "        if fx * fa < 0:\n",
    "            b, fb = x, fx  # Update the right endpoint\n",
    "        else:\n",
    "            a, fa = x, fx  # Update the left endpoint\n",
    "            \n",
    "        if abs(fx) < tol:  # Stopping based on function value\n",
    "            print(k)\n",
    "            return a, b\n",
    "            \n",
    "    return (a + b) / 2, k"
   ]
  },
  {
   "cell_type": "code",
   "execution_count": 57,
   "metadata": {},
   "outputs": [],
   "source": [
    "def secant_single_eval(f, x0, x1, tol=1e-6, max_iter=100):\n",
    "    f0 = f(x0)\n",
    "    f1 = f(x1)\n",
    "    k = 0\n",
    "\n",
    "    if abs(f0) < tol:\n",
    "        return x0\n",
    "    if abs(f1) < tol:\n",
    "        return x1\n",
    "\n",
    "    for _ in range(max_iter):\n",
    "        k += 1\n",
    "        # Compute the next point using the secant formula\n",
    "        x2 = x1 - f1 * (x1 - x0) / (f1 - f0)\n",
    "        f2 = f(x2)\n",
    "\n",
    "        # Check stopping criteria\n",
    "        if abs(f2) < tol:\n",
    "            return x2, f2, k\n",
    "\n",
    "        # Update for the next iteration\n",
    "        x0, f0 = x1, f1\n",
    "        x1, f1 = x2, f2"
   ]
  },
  {
   "cell_type": "code",
   "execution_count": 58,
   "metadata": {},
   "outputs": [],
   "source": [
    "def itp_optimized(f, a, b, tol, max_iter, alpha=0.2, beta=1.0):\n",
    "    # Initial evaluations\n",
    "    f_a = f(a)\n",
    "    f_b = f(b)\n",
    "    k = 0\n",
    "    if f_a * f_b > 0:\n",
    "        raise ValueError(\"Function must have opposite signs at endpoints a and b.\")\n",
    "\n",
    "    for iteration in range(max_iter):\n",
    "        k += 1\n",
    "        # Compute midpoint and its function value (reuse evaluations when possible)\n",
    "        m = (a + b) / 2\n",
    "        f_m = f(m) if iteration == 0 else f_m  # First iteration requires f(m)\n",
    "\n",
    "        # Interpolation\n",
    "        delta = beta * (b - a) / 2\n",
    "        g = m - (1 if f_m > 0 else -1) * min(abs(f_m) * delta, delta)\n",
    "\n",
    "        # Truncation\n",
    "        t = m + (g - m) * min(1, alpha * (b - a))\n",
    "\n",
    "        # Evaluate f(t) only once\n",
    "        f_t = f(t)\n",
    "\n",
    "        # Update bounds and reuse evaluations\n",
    "        if f_a * f_t < 0:\n",
    "            b, f_b = t, f_t\n",
    "        else:\n",
    "            a, f_a = t, f_t\n",
    "            \n",
    "        # Check stopping criteria\n",
    "        if f_t == 0 or abs(f_t) < tol:\n",
    "            print(k)\n",
    "            return a, b\n",
    "\n",
    "        # Update f_m for reuse in the next iteration\n",
    "        f_m = f_m if t == m else f(t)\n"
   ]
  },
  {
   "cell_type": "code",
   "execution_count": 59,
   "metadata": {},
   "outputs": [],
   "source": [
    "def newton_raphson(f, x0, c, tol=1e-6, max_iter=100):\n",
    "    k = 0\n",
    "    \n",
    "    for _ in range(max_iter):\n",
    "        k += 1\n",
    "        fx, dfx = f(x0)\n",
    "        \n",
    "        fx = fx - c\n",
    "        \n",
    "        if abs(fx) < tol:\n",
    "            return x0, fx, k\n",
    "        x0 = x0 - fx / dfx"
   ]
  },
  {
   "cell_type": "code",
   "execution_count": 60,
   "metadata": {},
   "outputs": [],
   "source": [
    "def chandrupatla(f, x0, x1, tol=1e-6, maxit=100):\n",
    "    b = x1\n",
    "    a = x0\n",
    "    c = x0\n",
    "    fa = f(a)\n",
    "    fb = f(b)\n",
    "    fc = fa\n",
    "    \n",
    "    k = 0\n",
    "    t = 0.5\n",
    "    \n",
    "    for _ in range(maxit):\n",
    "        k += 1\n",
    "        xt = a + t * (b - a)\n",
    "        ft = f(xt)\n",
    "        \n",
    "        if ft * fa >= 0:\n",
    "            c = a\n",
    "            fc = fa\n",
    "        else:\n",
    "            c = b\n",
    "            b = a\n",
    "            fc = fb\n",
    "            fb = fa\n",
    "            \n",
    "        a = xt\n",
    "        fa = ft\n",
    "        \n",
    "        if abs(fa) < abs(fb):\n",
    "            xm = a\n",
    "            fm = fa\n",
    "        else:\n",
    "            xm = b\n",
    "            fm = fb\n",
    "            \n",
    "        if abs(fm) < tol:\n",
    "            print(k)\n",
    "            return fm\n",
    "                        \n",
    "        xi = (a - b) / (c - b)\n",
    "        phi = (fa - fb) / (fc - fb)\n",
    "        \n",
    "        if phi**2 < xi and (1 - phi)**2 < 1 - xi:\n",
    "            t = fa / (fb - fa) * fc / (fb - fc) + (c - a) / (b - a) * fa / (fc - fa) * fb / (fc - fb)\n",
    "        else:\n",
    "            t = 0.5\n",
    "    "
   ]
  },
  {
   "cell_type": "code",
   "execution_count": 47,
   "metadata": {},
   "outputs": [],
   "source": []
  },
  {
   "cell_type": "code",
   "execution_count": 61,
   "metadata": {},
   "outputs": [
    {
     "name": "stdout",
     "output_type": "stream",
     "text": [
      "9\n"
     ]
    },
    {
     "data": {
      "text/plain": [
       "tensor([-2.3003e-11], device='cuda:0', dtype=torch.float64)"
      ]
     },
     "execution_count": 61,
     "metadata": {},
     "output_type": "execute_result"
    }
   ],
   "source": [
    "x = generate(1, 512, 50, device=device)\n",
    "c = std_norm(kernel.pairwise(x))\n",
    "ff = lambda s : kernel.pairwise(x, x_scale=s) - c\n",
    "a = torch.tensor([0], device=x.device, dtype=x.dtype)\n",
    "b = torch.tensor([1], device=x.device, dtype=x.dtype)\n",
    "chandrupatla(ff, x0=a, x1=b, tol=1e-8)"
   ]
  },
  {
   "cell_type": "code",
   "execution_count": 62,
   "metadata": {},
   "outputs": [
    {
     "name": "stdout",
     "output_type": "stream",
     "text": [
      "9\n",
      "tensor([0.1191], device='cuda:0', dtype=torch.float64)\n",
      "tensor([-7.8755e-10], device='cuda:0', dtype=torch.float64)\n",
      "2\n"
     ]
    }
   ],
   "source": [
    "a = torch.tensor([0], device=x.device, dtype=x.dtype)\n",
    "b = torch.tensor([1], device=x.device, dtype=x.dtype)\n",
    "a, b = bisection_single_eval(ff, a=a, b=b, tol=0.01)\n",
    "b_secant, val_secant, k_secant = secant_single_eval(ff, a, b, tol=1e-7, max_iter=200)\n",
    "print(b_secant)\n",
    "print(val_secant)\n",
    "print(k_secant)"
   ]
  },
  {
   "cell_type": "code",
   "execution_count": 63,
   "metadata": {},
   "outputs": [
    {
     "name": "stdout",
     "output_type": "stream",
     "text": [
      "7\n",
      "tensor([0.1191], device='cuda:0', dtype=torch.float64)\n",
      "tensor([1.1984e-11], device='cuda:0', dtype=torch.float64)\n",
      "3\n"
     ]
    }
   ],
   "source": [
    "a = torch.tensor([0], device=x.device, dtype=x.dtype)\n",
    "b = torch.tensor([1], device=x.device, dtype=x.dtype)\n",
    "#a, b = bisection_single_eval(ff, a=a, b=b, tol=0.01, max_iter=100)\n",
    "a, b =  itp_single_eval(ff, a=a, b=b, tol=0.01)\n",
    "b_secant, val_secant, k_secant = secant_single_eval(ff, a, b, tol=1e-7, max_iter=200)\n",
    "print(b_secant)\n",
    "print(val_secant)\n",
    "print(k_secant)"
   ]
  },
  {
   "cell_type": "code",
   "execution_count": 64,
   "metadata": {},
   "outputs": [
    {
     "name": "stdout",
     "output_type": "stream",
     "text": [
      "7\n"
     ]
    },
    {
     "ename": "AttributeError",
     "evalue": "'RobustSigPDE' object has no attribute 'pairwise_norm'",
     "output_type": "error",
     "traceback": [
      "\u001b[0;31m---------------------------------------------------------------------------\u001b[0m",
      "\u001b[0;31mAttributeError\u001b[0m                            Traceback (most recent call last)",
      "Cell \u001b[0;32mIn [64], line 6\u001b[0m\n\u001b[1;32m      4\u001b[0m \u001b[38;5;66;03m#a, b = itp_optimized(ff, a=a, b=b, tol=0.01, max_iter=100)\u001b[39;00m\n\u001b[1;32m      5\u001b[0m df \u001b[38;5;241m=\u001b[39m \u001b[38;5;28;01mlambda\u001b[39;00m s : kernel2\u001b[38;5;241m.\u001b[39mpairwise_norm(x, s)\n\u001b[0;32m----> 6\u001b[0m b_nr, s_nr, k_nr \u001b[38;5;241m=\u001b[39m \u001b[43mnewton_raphson\u001b[49m\u001b[43m(\u001b[49m\u001b[43mdf\u001b[49m\u001b[43m,\u001b[49m\u001b[43m \u001b[49m\u001b[43m(\u001b[49m\u001b[43ma\u001b[49m\u001b[43m \u001b[49m\u001b[38;5;241;43m+\u001b[39;49m\u001b[43m \u001b[49m\u001b[43mb\u001b[49m\u001b[43m)\u001b[49m\u001b[43m \u001b[49m\u001b[38;5;241;43m/\u001b[39;49m\u001b[43m \u001b[49m\u001b[38;5;241;43m2\u001b[39;49m\u001b[43m,\u001b[49m\u001b[43m \u001b[49m\u001b[43mc\u001b[49m\u001b[43m,\u001b[49m\u001b[43m \u001b[49m\u001b[43mtol\u001b[49m\u001b[38;5;241;43m=\u001b[39;49m\u001b[38;5;241;43m1e-7\u001b[39;49m\u001b[43m,\u001b[49m\u001b[43m \u001b[49m\u001b[43mmax_iter\u001b[49m\u001b[38;5;241;43m=\u001b[39;49m\u001b[38;5;241;43m200\u001b[39;49m\u001b[43m)\u001b[49m\n\u001b[1;32m      7\u001b[0m \u001b[38;5;28mprint\u001b[39m(b_nr)\n\u001b[1;32m      8\u001b[0m \u001b[38;5;28mprint\u001b[39m(s_nr)\n",
      "Cell \u001b[0;32mIn [59], line 6\u001b[0m, in \u001b[0;36mnewton_raphson\u001b[0;34m(f, x0, c, tol, max_iter)\u001b[0m\n\u001b[1;32m      4\u001b[0m \u001b[38;5;28;01mfor\u001b[39;00m _ \u001b[38;5;129;01min\u001b[39;00m \u001b[38;5;28mrange\u001b[39m(max_iter):\n\u001b[1;32m      5\u001b[0m     k \u001b[38;5;241m+\u001b[39m\u001b[38;5;241m=\u001b[39m \u001b[38;5;241m1\u001b[39m\n\u001b[0;32m----> 6\u001b[0m     fx, dfx \u001b[38;5;241m=\u001b[39m \u001b[43mf\u001b[49m\u001b[43m(\u001b[49m\u001b[43mx0\u001b[49m\u001b[43m)\u001b[49m\n\u001b[1;32m      8\u001b[0m     fx \u001b[38;5;241m=\u001b[39m fx \u001b[38;5;241m-\u001b[39m c\n\u001b[1;32m     10\u001b[0m     \u001b[38;5;28;01mif\u001b[39;00m \u001b[38;5;28mabs\u001b[39m(fx) \u001b[38;5;241m<\u001b[39m tol:\n",
      "Cell \u001b[0;32mIn [64], line 5\u001b[0m, in \u001b[0;36m<lambda>\u001b[0;34m(s)\u001b[0m\n\u001b[1;32m      3\u001b[0m a, b \u001b[38;5;241m=\u001b[39m itp_single_eval(ff, a\u001b[38;5;241m=\u001b[39ma, b\u001b[38;5;241m=\u001b[39mb, tol\u001b[38;5;241m=\u001b[39m\u001b[38;5;241m0.01\u001b[39m)\n\u001b[1;32m      4\u001b[0m \u001b[38;5;66;03m#a, b = itp_optimized(ff, a=a, b=b, tol=0.01, max_iter=100)\u001b[39;00m\n\u001b[0;32m----> 5\u001b[0m df \u001b[38;5;241m=\u001b[39m \u001b[38;5;28;01mlambda\u001b[39;00m s : \u001b[43mkernel2\u001b[49m\u001b[38;5;241;43m.\u001b[39;49m\u001b[43mpairwise_norm\u001b[49m(x, s)\n\u001b[1;32m      6\u001b[0m b_nr, s_nr, k_nr \u001b[38;5;241m=\u001b[39m newton_raphson(df, (a \u001b[38;5;241m+\u001b[39m b) \u001b[38;5;241m/\u001b[39m \u001b[38;5;241m2\u001b[39m, c, tol\u001b[38;5;241m=\u001b[39m\u001b[38;5;241m1e-7\u001b[39m, max_iter\u001b[38;5;241m=\u001b[39m\u001b[38;5;241m200\u001b[39m)\n\u001b[1;32m      7\u001b[0m \u001b[38;5;28mprint\u001b[39m(b_nr)\n",
      "\u001b[0;31mAttributeError\u001b[0m: 'RobustSigPDE' object has no attribute 'pairwise_norm'"
     ]
    }
   ],
   "source": [
    "a = torch.tensor([0], device=x.device, dtype=x.dtype)\n",
    "b = torch.tensor([1], device=x.device, dtype=x.dtype)\n",
    "a, b = itp_single_eval(ff, a=a, b=b, tol=0.01)\n",
    "#a, b = itp_optimized(ff, a=a, b=b, tol=0.01, max_iter=100)\n",
    "df = lambda s : kernel2.pairwise_norm(x, s)\n",
    "b_nr, s_nr, k_nr = newton_raphson(df, (a + b) / 2, c, tol=1e-7, max_iter=200)\n",
    "print(b_nr)\n",
    "print(s_nr)\n",
    "print(k_nr)"
   ]
  },
  {
   "cell_type": "code",
   "execution_count": 68,
   "metadata": {},
   "outputs": [
    {
     "name": "stdout",
     "output_type": "stream",
     "text": [
      "tensor([1.7421e-10], device='cuda:0', dtype=torch.float64)\n",
      "tensor([-6.3408e-11], device='cuda:0', dtype=torch.float64)\n"
     ]
    }
   ],
   "source": [
    "print(kernel.pairwise(x, x_scale = b_secant) - c)\n",
    "print(kernel.pairwise(x, x_scale = b_nr) - c)"
   ]
  }
 ],
 "metadata": {
  "kernelspec": {
   "display_name": "Python 3",
   "language": "python",
   "name": "python3"
  },
  "language_info": {
   "codemirror_mode": {
    "name": "ipython",
    "version": 3
   },
   "file_extension": ".py",
   "mimetype": "text/x-python",
   "name": "python",
   "nbconvert_exporter": "python",
   "pygments_lexer": "ipython3",
   "version": "3.9.20"
  }
 },
 "nbformat": 4,
 "nbformat_minor": 2
}
