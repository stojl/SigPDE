{
 "cells": [
  {
   "cell_type": "code",
   "execution_count": 1,
   "metadata": {},
   "outputs": [],
   "source": [
    "import sigpde.torch as sig\n",
    "import torch\n",
    "import math\n",
    "from samplers import *\n",
    "device = torch.device('cuda:0')"
   ]
  },
  {
   "cell_type": "code",
   "execution_count": 2,
   "metadata": {},
   "outputs": [],
   "source": [
    "kernel = sig.SigPDE(sig.kernels.LinearKernel(), 1)\n",
    "kernel2 = sig.RobustSigPDE(sig.kernels.LinearKernel(), 1)"
   ]
  },
  {
   "cell_type": "code",
   "execution_count": 3,
   "metadata": {},
   "outputs": [],
   "source": [
    "x = generate(30, 512, 50, device=device)\n",
    "y = generate(5, 512, 50, device=device)\n",
    "z, w = sample(30)\n",
    "z = add_time(z)\n",
    "x = add_time(x)\n",
    "w = time_norm(w)"
   ]
  },
  {
   "cell_type": "code",
   "execution_count": 4,
   "metadata": {},
   "outputs": [],
   "source": [
    "kernel = sig.SigPDE(sig.kernels.LinearKernel(), 1)\n",
    "kernel2 = sig.RobustSigPDE(sig.kernels.LinearKernel(), 1)"
   ]
  },
  {
   "cell_type": "code",
   "execution_count": 6,
   "metadata": {},
   "outputs": [
    {
     "data": {
      "text/plain": [
       "tensor([[1.9805, 0.8663, 1.0279, 0.8529, 0.8871, 1.0420, 1.0450, 1.0704, 1.0650,\n",
       "         0.9543, 1.2051, 0.9703, 0.9700, 1.1463, 1.0921, 0.9167, 1.1679, 1.0561,\n",
       "         0.9102, 0.9224, 1.0831, 1.0494, 1.2831, 0.8594, 1.0198, 0.9452, 0.9285,\n",
       "         1.0361, 0.8914, 1.1245],\n",
       "        [0.8663, 1.9795, 0.7941, 1.0538, 1.1110, 0.9309, 0.9063, 1.1107, 1.0248,\n",
       "         1.1035, 0.8771, 1.0646, 0.9277, 1.0326, 1.0843, 1.1607, 0.9473, 1.1199,\n",
       "         1.0949, 0.9466, 0.9155, 1.0332, 0.9218, 1.1000, 0.9902, 1.0378, 0.8063,\n",
       "         1.0251, 1.2305, 1.0871],\n",
       "        [1.0279, 0.7941, 1.9796, 1.0624, 1.1480, 0.9680, 1.0984, 0.8628, 0.8738,\n",
       "         1.0490, 1.0472, 1.2080, 1.0071, 1.0277, 1.1192, 1.0228, 0.8540, 1.0146,\n",
       "         0.9732, 1.0232, 1.0416, 0.9227, 1.0702, 1.1403, 0.9297, 1.1180, 1.1635,\n",
       "         1.0943, 0.9807, 0.8747],\n",
       "        [0.8529, 1.0538, 1.0624, 1.9808, 1.0007, 1.1018, 0.9523, 1.0505, 0.8515,\n",
       "         0.9549, 0.9722, 0.9975, 0.9756, 1.1594, 1.0868, 1.2257, 0.9670, 1.1761,\n",
       "         0.9947, 0.9298, 1.0789, 1.0378, 0.9919, 1.1002, 1.0426, 1.0634, 1.0926,\n",
       "         0.9849, 1.0578, 1.0185],\n",
       "        [0.8871, 1.1110, 1.1480, 1.0007, 1.9795, 0.9062, 0.9083, 0.9455, 0.9504,\n",
       "         0.9092, 0.9610, 1.1216, 1.1526, 1.0063, 1.0683, 1.0244, 0.9481, 0.9884,\n",
       "         0.9171, 0.9872, 1.1616, 0.9337, 1.0019, 0.9608, 0.9392, 0.9900, 1.0925,\n",
       "         0.8936, 1.0692, 0.8552],\n",
       "        [1.0420, 0.9309, 0.9680, 1.1018, 0.9062, 1.9796, 1.0310, 1.0181, 1.0451,\n",
       "         1.1413, 1.2289, 0.8854, 0.8371, 0.9028, 0.9839, 0.8185, 1.0326, 0.9981,\n",
       "         1.0311, 0.9706, 1.1030, 1.0166, 1.1870, 0.9529, 1.0990, 0.8740, 1.0639,\n",
       "         0.8724, 0.7777, 0.9858],\n",
       "        [1.0450, 0.9063, 1.0984, 0.9523, 0.9083, 1.0310, 1.9796, 1.0737, 0.9789,\n",
       "         0.9261, 1.0220, 1.0224, 0.8874, 0.9192, 1.0776, 0.9581, 1.0628, 1.0703,\n",
       "         1.0727, 1.0445, 1.1054, 1.0216, 1.0640, 1.1632, 1.0650, 1.0896, 0.9043,\n",
       "         1.1035, 0.9854, 0.9968],\n",
       "        [1.0704, 1.1107, 0.8628, 1.0505, 0.9455, 1.0181, 1.0737, 1.9796, 1.0278,\n",
       "         1.0648, 1.0012, 0.9663, 0.8281, 0.9816, 1.0792, 1.1247, 1.0215, 0.9734,\n",
       "         1.0722, 0.9650, 1.1285, 1.1754, 1.0898, 1.0244, 0.9984, 0.9617, 0.8267,\n",
       "         1.1523, 1.0960, 1.0428],\n",
       "        [1.0650, 1.0248, 0.8738, 0.8515, 0.9504, 1.0451, 0.9789, 1.0278, 1.9801,\n",
       "         0.9245, 1.0722, 1.0320, 0.9196, 1.0359, 0.9005, 0.9799, 1.0910, 1.0106,\n",
       "         1.0392, 1.0387, 0.9878, 0.9584, 1.0530, 0.8964, 1.1897, 0.7740, 0.9723,\n",
       "         1.0620, 0.9385, 1.0272],\n",
       "        [0.9543, 1.1035, 1.0490, 0.9549, 0.9092, 1.1413, 0.9261, 1.0648, 0.9245,\n",
       "         1.9796, 1.0077, 1.0705, 1.0681, 0.9768, 1.0397, 1.1196, 0.9245, 0.8415,\n",
       "         1.1581, 0.9692, 0.9826, 1.1477, 0.8124, 1.0689, 0.9062, 1.1412, 1.1277,\n",
       "         1.0194, 1.0329, 1.0505],\n",
       "        [1.2051, 0.8771, 1.0472, 0.9722, 0.9610, 1.2289, 1.0220, 1.0012, 1.0722,\n",
       "         1.0077, 1.9811, 1.0280, 0.9894, 0.9665, 1.0296, 0.9906, 1.1409, 1.0318,\n",
       "         0.8170, 1.0695, 0.9453, 1.0190, 1.0367, 0.9622, 1.0754, 1.0697, 0.9027,\n",
       "         1.0418, 0.8552, 1.1015],\n",
       "        [0.9703, 1.0646, 1.2080, 0.9975, 1.1216, 0.8854, 1.0224, 0.9663, 1.0320,\n",
       "         1.0705, 1.0280, 1.9796, 1.0442, 1.1580, 0.8399, 0.9868, 0.8163, 1.0409,\n",
       "         0.8928, 0.9440, 1.2108, 1.1116, 0.9632, 0.9420, 1.0523, 1.0329, 1.0504,\n",
       "         1.1415, 1.1959, 0.8808],\n",
       "        [0.9700, 0.9277, 1.0071, 0.9756, 1.1526, 0.8371, 0.8874, 0.8281, 0.9196,\n",
       "         1.0681, 0.9894, 1.0442, 1.9803, 1.1258, 1.1289, 0.9908, 0.8834, 0.9841,\n",
       "         0.9680, 1.0692, 0.9935, 0.9306, 0.9284, 0.9997, 1.0055, 1.1542, 0.9996,\n",
       "         0.9767, 1.0044, 1.1213],\n",
       "        [1.1463, 1.0326, 1.0277, 1.1594, 1.0063, 0.9028, 0.9192, 0.9816, 1.0359,\n",
       "         0.9768, 0.9665, 1.1580, 1.1258, 1.9789, 0.9477, 1.1385, 0.9242, 1.1591,\n",
       "         1.0572, 1.0134, 0.9724, 0.9123, 1.0744, 0.8954, 0.9942, 0.9019, 0.9216,\n",
       "         0.9502, 1.1317, 1.0074],\n",
       "        [1.0921, 1.0843, 1.1192, 1.0868, 1.0683, 0.9839, 1.0776, 1.0792, 0.9005,\n",
       "         1.0397, 1.0296, 0.8399, 1.1289, 0.9477, 1.9791, 1.1289, 1.1704, 0.9413,\n",
       "         1.2102, 1.0979, 0.9152, 1.0704, 1.1041, 1.2129, 0.7979, 1.0808, 0.9777,\n",
       "         1.0249, 0.8764, 1.1032],\n",
       "        [0.9167, 1.1607, 1.0228, 1.2257, 1.0244, 0.8185, 0.9581, 1.1247, 0.9799,\n",
       "         1.1196, 0.9906, 0.9868, 0.9908, 1.1385, 1.1289, 1.9782, 1.1980, 1.0611,\n",
       "         1.1500, 0.9551, 1.0430, 0.9791, 0.9590, 1.2073, 0.9760, 0.9921, 1.0019,\n",
       "         1.1522, 1.1539, 1.1143],\n",
       "        [1.1679, 0.9473, 0.8540, 0.9670, 0.9481, 1.0326, 1.0628, 1.0215, 1.0910,\n",
       "         0.9245, 1.1409, 0.8163, 0.8834, 0.9242, 1.1704, 1.1980, 1.9803, 0.9791,\n",
       "         1.0859, 0.9490, 0.9112, 0.8975, 1.0953, 0.8976, 0.9459, 0.9335, 1.0236,\n",
       "         0.9794, 0.9875, 1.2514],\n",
       "        [1.0561, 1.1199, 1.0146, 1.1761, 0.9884, 0.9981, 1.0703, 0.9734, 1.0106,\n",
       "         0.8415, 1.0318, 1.0409, 0.9841, 1.1591, 0.9413, 1.0611, 0.9791, 1.9794,\n",
       "         0.9954, 0.9272, 0.9733, 1.0936, 1.0383, 1.1984, 1.1392, 1.1167, 0.9354,\n",
       "         0.9843, 1.0467, 1.0485],\n",
       "        [0.9102, 1.0949, 0.9732, 0.9947, 0.9171, 1.0311, 1.0727, 1.0722, 1.0392,\n",
       "         1.1581, 0.8170, 0.8928, 0.9680, 1.0572, 1.2102, 1.1500, 1.0859, 0.9954,\n",
       "         1.9783, 1.0834, 1.1282, 0.9362, 1.1013, 1.1400, 0.7686, 0.8626, 1.0261,\n",
       "         0.9381, 0.9195, 0.9535],\n",
       "        [0.9224, 0.9466, 1.0232, 0.9298, 0.9872, 0.9706, 1.0445, 0.9650, 1.0387,\n",
       "         0.9692, 1.0695, 0.9440, 1.0692, 1.0134, 1.0979, 0.9551, 0.9490, 0.9272,\n",
       "         1.0834, 1.9800, 0.9189, 1.0813, 0.9292, 1.2995, 0.7901, 1.1698, 0.8939,\n",
       "         0.8943, 0.8511, 0.9320],\n",
       "        [1.0831, 0.9155, 1.0416, 1.0789, 1.1616, 1.1030, 1.1054, 1.1285, 0.9878,\n",
       "         0.9826, 0.9453, 1.2108, 0.9935, 0.9724, 0.9152, 1.0430, 0.9112, 0.9733,\n",
       "         1.1282, 0.9189, 1.9799, 0.8676, 1.1611, 1.0152, 1.0303, 0.8450, 0.9531,\n",
       "         1.1422, 0.9720, 0.8004],\n",
       "        [1.0494, 1.0332, 0.9227, 1.0378, 0.9337, 1.0166, 1.0216, 1.1754, 0.9584,\n",
       "         1.1477, 1.0190, 1.1116, 0.9306, 0.9123, 1.0704, 0.9791, 0.8975, 1.0936,\n",
       "         0.9362, 1.0813, 0.8676, 1.9798, 0.8492, 1.1838, 1.0028, 1.0788, 1.1479,\n",
       "         1.0727, 1.0031, 0.9176],\n",
       "        [1.2831, 0.9218, 1.0702, 0.9919, 1.0019, 1.1870, 1.0640, 1.0898, 1.0530,\n",
       "         0.8124, 1.0367, 0.9632, 0.9284, 1.0744, 1.1041, 0.9590, 1.0953, 1.0383,\n",
       "         1.1013, 0.9292, 1.1611, 0.8492, 1.9786, 0.9108, 1.0556, 0.7753, 0.8710,\n",
       "         1.0273, 0.7897, 1.0161],\n",
       "        [0.8594, 1.1000, 1.1403, 1.1002, 0.9608, 0.9529, 1.1632, 1.0244, 0.8964,\n",
       "         1.0689, 0.9622, 0.9420, 0.9997, 0.8954, 1.2129, 1.2073, 0.8976, 1.1984,\n",
       "         1.1400, 1.2995, 1.0152, 1.1838, 0.9108, 1.9801, 0.7918, 1.2745, 0.9997,\n",
       "         1.0486, 0.9776, 0.9673],\n",
       "        [1.0198, 0.9902, 0.9297, 1.0426, 0.9392, 1.0990, 1.0650, 0.9984, 1.1897,\n",
       "         0.9062, 1.0754, 1.0523, 1.0055, 0.9942, 0.7979, 0.9760, 0.9459, 1.1392,\n",
       "         0.7686, 0.7901, 1.0303, 1.0028, 1.0556, 0.7918, 1.9791, 0.9331, 0.9825,\n",
       "         1.0782, 1.0693, 0.9917],\n",
       "        [0.9452, 1.0378, 1.1180, 1.0634, 0.9900, 0.8740, 1.0896, 0.9617, 0.7740,\n",
       "         1.1412, 1.0697, 1.0329, 1.1542, 0.9019, 1.0808, 0.9921, 0.9335, 1.1167,\n",
       "         0.8626, 1.1698, 0.8450, 1.0788, 0.7753, 1.2745, 0.9331, 1.9792, 0.9160,\n",
       "         1.0592, 1.1165, 1.1076],\n",
       "        [0.9285, 0.8063, 1.1635, 1.0926, 1.0925, 1.0639, 0.9043, 0.8267, 0.9723,\n",
       "         1.1277, 0.9027, 1.0504, 0.9996, 0.9216, 0.9777, 1.0019, 1.0236, 0.9354,\n",
       "         1.0261, 0.8939, 0.9531, 1.1479, 0.8710, 0.9997, 0.9825, 0.9160, 1.9798,\n",
       "         0.8870, 1.0013, 0.9574],\n",
       "        [1.0361, 1.0251, 1.0943, 0.9849, 0.8936, 0.8724, 1.1035, 1.1523, 1.0620,\n",
       "         1.0194, 1.0418, 1.1415, 0.9767, 0.9502, 1.0249, 1.1522, 0.9794, 0.9843,\n",
       "         0.9381, 0.8943, 1.1422, 1.0727, 1.0273, 1.0486, 1.0782, 1.0592, 0.8870,\n",
       "         1.9795, 1.0528, 1.1987],\n",
       "        [0.8914, 1.2305, 0.9807, 1.0578, 1.0692, 0.7777, 0.9854, 1.0960, 0.9385,\n",
       "         1.0329, 0.8552, 1.1959, 1.0044, 1.1317, 0.8764, 1.1539, 0.9875, 1.0467,\n",
       "         0.9195, 0.8511, 0.9720, 1.0031, 0.7897, 0.9776, 1.0693, 1.1165, 1.0013,\n",
       "         1.0528, 1.9792, 0.9550],\n",
       "        [1.1245, 1.0871, 0.8747, 1.0185, 0.8552, 0.9858, 0.9968, 1.0428, 1.0272,\n",
       "         1.0505, 1.1015, 0.8808, 1.1213, 1.0074, 1.1032, 1.1143, 1.2514, 1.0485,\n",
       "         0.9535, 0.9320, 0.8004, 0.9176, 1.0161, 0.9673, 0.9917, 1.1076, 0.9574,\n",
       "         1.1987, 0.9550, 1.9789]], device='cuda:0', dtype=torch.float64)"
      ]
     },
     "execution_count": 6,
     "metadata": {},
     "output_type": "execute_result"
    }
   ],
   "source": [
    "kernel2 = sig.RobustSigPDE(sig.kernels.LinearKernel(), 0)\n",
    "kernel2.gram(x)"
   ]
  },
  {
   "cell_type": "code",
   "execution_count": 124,
   "metadata": {},
   "outputs": [],
   "source": [
    "z, w = sample(1)\n",
    "z = add_time(z)\n",
    "c = std_norm(kernel.pairwise(z))\n",
    "ff = lambda s : kernel.pairwise(z, x_scale=s) - c"
   ]
  },
  {
   "cell_type": "code",
   "execution_count": 4,
   "metadata": {},
   "outputs": [],
   "source": [
    "def bisection_single_eval(f, a, b, tol=1e-6, max_iter=100):\n",
    "    fa = f(a)\n",
    "    fb = f(b)\n",
    "    k = 0\n",
    "    if fa * fb >= 0:\n",
    "        raise ValueError(\"Function values at the endpoints must have opposite signs.\")\n",
    "    \n",
    "    for _ in range(max_iter):\n",
    "        k += 1\n",
    "        # Compute midpoint\n",
    "        c = (a + b) / 2\n",
    "        fc = f(c)\n",
    "\n",
    "        # Update the interval and reuse function evaluations\n",
    "        if fa * fc < 0:\n",
    "            b, fb = c, fc  # Update the right endpoint\n",
    "        else:\n",
    "            a, fa = c, fc  # Update the left endpoint\n",
    "            \n",
    "        # Stopping criterion based on function value\n",
    "        if abs(fc) < tol:\n",
    "            print(k)\n",
    "            return a, b\n",
    "\n",
    "    raise RuntimeError(\"Maximum number of iterations reached without convergence.\")"
   ]
  },
  {
   "cell_type": "code",
   "execution_count": 5,
   "metadata": {},
   "outputs": [],
   "source": [
    "def itp_single_eval(f, a=0, b=1,tol=1e-6, max_iter=100):\n",
    "    fa = f(a)\n",
    "    fb = f(b)\n",
    "    k = 0\n",
    "\n",
    "    if fa * fb >= 0:\n",
    "        raise ValueError(\"Function values at the endpoints must have opposite signs.\")\n",
    "    \n",
    "    for _ in range(max_iter):\n",
    "        k += 1\n",
    "        # Midpoint and interpolation calculation\n",
    "        mid = (a + b) / 2\n",
    "        interp = (a * fb - b * fa) / (fb - fa)\n",
    "        t = 0.2  # Blending parameter (adjust if necessary)\n",
    "        x = (1 - t) * mid + t * interp\n",
    "\n",
    "        fx = f(x)\n",
    "\n",
    "        # Update the interval and reuse function evaluations\n",
    "        if fx * fa < 0:\n",
    "            b, fb = x, fx  # Update the right endpoint\n",
    "        else:\n",
    "            a, fa = x, fx  # Update the left endpoint\n",
    "            \n",
    "        if abs(fx) < tol:  # Stopping based on function value\n",
    "            print(k)\n",
    "            return a, b\n",
    "            \n",
    "    return (a + b) / 2, k"
   ]
  },
  {
   "cell_type": "code",
   "execution_count": 6,
   "metadata": {},
   "outputs": [],
   "source": [
    "def secant_single_eval(f, x0, x1, tol=1e-6, max_iter=100):\n",
    "    f0 = f(x0)\n",
    "    f1 = f(x1)\n",
    "    k = 0\n",
    "\n",
    "    if abs(f0) < tol:\n",
    "        return x0\n",
    "    if abs(f1) < tol:\n",
    "        return x1\n",
    "\n",
    "    for _ in range(max_iter):\n",
    "        k += 1\n",
    "        # Compute the next point using the secant formula\n",
    "        x2 = x1 - f1 * (x1 - x0) / (f1 - f0)\n",
    "        f2 = f(x2)\n",
    "\n",
    "        # Check stopping criteria\n",
    "        if abs(f2) < tol:\n",
    "            return x2, f2, k\n",
    "\n",
    "        # Update for the next iteration\n",
    "        x0, f0 = x1, f1\n",
    "        x1, f1 = x2, f2"
   ]
  },
  {
   "cell_type": "code",
   "execution_count": 7,
   "metadata": {},
   "outputs": [],
   "source": [
    "def itp_optimized(f, a, b, tol, max_iter, alpha=0.2, beta=1.0):\n",
    "    # Initial evaluations\n",
    "    f_a = f(a)\n",
    "    f_b = f(b)\n",
    "    k = 0\n",
    "    if f_a * f_b > 0:\n",
    "        raise ValueError(\"Function must have opposite signs at endpoints a and b.\")\n",
    "\n",
    "    for iteration in range(max_iter):\n",
    "        k += 1\n",
    "        # Compute midpoint and its function value (reuse evaluations when possible)\n",
    "        m = (a + b) / 2\n",
    "        f_m = f(m) if iteration == 0 else f_m  # First iteration requires f(m)\n",
    "\n",
    "        # Interpolation\n",
    "        delta = beta * (b - a) / 2\n",
    "        g = m - (1 if f_m > 0 else -1) * min(abs(f_m) * delta, delta)\n",
    "\n",
    "        # Truncation\n",
    "        t = m + (g - m) * min(1, alpha * (b - a))\n",
    "\n",
    "        # Evaluate f(t) only once\n",
    "        f_t = f(t)\n",
    "\n",
    "        # Update bounds and reuse evaluations\n",
    "        if f_a * f_t < 0:\n",
    "            b, f_b = t, f_t\n",
    "        else:\n",
    "            a, f_a = t, f_t\n",
    "            \n",
    "        # Check stopping criteria\n",
    "        if f_t == 0 or abs(f_t) < tol:\n",
    "            print(k)\n",
    "            return a, b\n",
    "\n",
    "        # Update f_m for reuse in the next iteration\n",
    "        f_m = f_m if t == m else f(t)\n"
   ]
  },
  {
   "cell_type": "code",
   "execution_count": 8,
   "metadata": {},
   "outputs": [],
   "source": [
    "def newton_raphson(f, x0, c, tol=1e-6, max_iter=100):\n",
    "    k = 0\n",
    "    \n",
    "    for _ in range(max_iter):\n",
    "        k += 1\n",
    "        fx, dfx = f(x0)\n",
    "        \n",
    "        fx = fx - c\n",
    "        \n",
    "        if abs(fx) < tol:\n",
    "            return x0, fx, k\n",
    "        x0 = x0 - fx / dfx"
   ]
  },
  {
   "cell_type": "code",
   "execution_count": 50,
   "metadata": {},
   "outputs": [],
   "source": [
    "def chandrupatla(f, x0, x1, tol=1e-6, maxit=100):\n",
    "    b = x1\n",
    "    a = x0\n",
    "    c = x0\n",
    "    fa = f(a)\n",
    "    fb = f(b)\n",
    "    fc = fa\n",
    "    \n",
    "    k = 0\n",
    "    t = 0.5\n",
    "    \n",
    "    for _ in range(maxit):\n",
    "        k += 1\n",
    "        xt = a + t * (b - a)\n",
    "        ft = f(xt)\n",
    "        \n",
    "        if ft * fa >= 0:\n",
    "            c = a\n",
    "            fc = fa\n",
    "        else:\n",
    "            c = b\n",
    "            b = a\n",
    "            fc = fb\n",
    "            fb = fa\n",
    "            \n",
    "        a = xt\n",
    "        fa = ft\n",
    "        \n",
    "        if abs(fa) < abs(fb):\n",
    "            xm = a\n",
    "            fm = fa\n",
    "        else:\n",
    "            xm = b\n",
    "            fm = fb\n",
    "            \n",
    "        if abs(fm) < tol:\n",
    "            print(k)\n",
    "            return fm\n",
    "                        \n",
    "        xi = (a - b) / (c - b)\n",
    "        phi = (fa - fb) / (fc - fb)\n",
    "        \n",
    "        if phi**2 < xi and (1 - phi)**2 < 1 - xi:\n",
    "            t = fa / (fb - fa) * fc / (fb - fc) + (c - a) / (b - a) * fa / (fc - fa) * fb / (fc - fb)\n",
    "        else:\n",
    "            t = 0.5\n",
    "    "
   ]
  },
  {
   "cell_type": "code",
   "execution_count": 47,
   "metadata": {},
   "outputs": [],
   "source": []
  },
  {
   "cell_type": "code",
   "execution_count": 51,
   "metadata": {},
   "outputs": [
    {
     "name": "stdout",
     "output_type": "stream",
     "text": [
      "6\n"
     ]
    },
    {
     "data": {
      "text/plain": [
       "tensor([1.2433e-11], device='cuda:0', dtype=torch.float64)"
      ]
     },
     "execution_count": 51,
     "metadata": {},
     "output_type": "execute_result"
    }
   ],
   "source": [
    "x = generate(1, 512, 50, device=device)\n",
    "c = std_norm(kernel.pairwise(x))\n",
    "ff = lambda s : kernel.pairwise(x, x_scale=s) - c\n",
    "a = torch.tensor([0], device=x.device, dtype=x.dtype)\n",
    "b = torch.tensor([1], device=x.device, dtype=x.dtype)\n",
    "chandrupatla(ff, x0=a, x1=b, tol=1e-8)"
   ]
  },
  {
   "cell_type": "code",
   "execution_count": 40,
   "metadata": {},
   "outputs": [
    {
     "name": "stdout",
     "output_type": "stream",
     "text": [
      "6\n",
      "tensor([0.6388], device='cuda:0', dtype=torch.float64)\n",
      "tensor([-4.4771e-12], device='cuda:0', dtype=torch.float64)\n",
      "3\n"
     ]
    }
   ],
   "source": [
    "a = torch.tensor([0], device=x.device, dtype=x.dtype)\n",
    "b = torch.tensor([1], device=x.device, dtype=x.dtype)\n",
    "a, b = bisection_single_eval(ff, a=a, b=b, tol=0.01)\n",
    "b_secant, val_secant, k_secant = secant_single_eval(ff, a, b, tol=1e-7, max_iter=200)\n",
    "print(b_secant)\n",
    "print(val_secant)\n",
    "print(k_secant)"
   ]
  },
  {
   "cell_type": "code",
   "execution_count": 33,
   "metadata": {},
   "outputs": [
    {
     "name": "stdout",
     "output_type": "stream",
     "text": [
      "25\n"
     ]
    }
   ],
   "source": [
    "a = torch.tensor([0], device=x.device, dtype=x.dtype)\n",
    "b = torch.tensor([1], device=x.device, dtype=x.dtype)\n",
    "#a, b = bisection_single_eval(ff, a=a, b=b, tol=0.01, max_iter=100)\n",
    "a, b =  itp_single_eval(ff, a=a, b=b, tol=0.01)\n",
    "b_secant, val_secant, k_secant = secant_single_eval(ff, a, b, tol=1e-7, max_iter=200)\n",
    "print(b_secant)\n",
    "print(val_secant)\n",
    "print(k_secant)"
   ]
  },
  {
   "cell_type": "code",
   "execution_count": 28,
   "metadata": {},
   "outputs": [
    {
     "name": "stdout",
     "output_type": "stream",
     "text": [
      "7\n"
     ]
    },
    {
     "ename": "AttributeError",
     "evalue": "'RobustSigPDE' object has no attribute 'pairwise_norm'",
     "output_type": "error",
     "traceback": [
      "\u001b[0;31m---------------------------------------------------------------------------\u001b[0m",
      "\u001b[0;31mAttributeError\u001b[0m                            Traceback (most recent call last)",
      "Cell \u001b[0;32mIn [28], line 6\u001b[0m\n\u001b[1;32m      4\u001b[0m \u001b[38;5;66;03m#a, b = itp_optimized(ff, a=a, b=b, tol=0.01, max_iter=100)\u001b[39;00m\n\u001b[1;32m      5\u001b[0m df \u001b[38;5;241m=\u001b[39m \u001b[38;5;28;01mlambda\u001b[39;00m s : kernel2\u001b[38;5;241m.\u001b[39mpairwise_norm(x, s)\n\u001b[0;32m----> 6\u001b[0m b_nr, s_nr, k_nr \u001b[38;5;241m=\u001b[39m \u001b[43mnewton_raphson\u001b[49m\u001b[43m(\u001b[49m\u001b[43mdf\u001b[49m\u001b[43m,\u001b[49m\u001b[43m \u001b[49m\u001b[43m(\u001b[49m\u001b[43ma\u001b[49m\u001b[43m \u001b[49m\u001b[38;5;241;43m+\u001b[39;49m\u001b[43m \u001b[49m\u001b[43mb\u001b[49m\u001b[43m)\u001b[49m\u001b[43m \u001b[49m\u001b[38;5;241;43m/\u001b[39;49m\u001b[43m \u001b[49m\u001b[38;5;241;43m2\u001b[39;49m\u001b[43m,\u001b[49m\u001b[43m \u001b[49m\u001b[43mc\u001b[49m\u001b[43m,\u001b[49m\u001b[43m \u001b[49m\u001b[43mtol\u001b[49m\u001b[38;5;241;43m=\u001b[39;49m\u001b[38;5;241;43m1e-7\u001b[39;49m\u001b[43m,\u001b[49m\u001b[43m \u001b[49m\u001b[43mmax_iter\u001b[49m\u001b[38;5;241;43m=\u001b[39;49m\u001b[38;5;241;43m200\u001b[39;49m\u001b[43m)\u001b[49m\n\u001b[1;32m      7\u001b[0m \u001b[38;5;28mprint\u001b[39m(b_nr)\n\u001b[1;32m      8\u001b[0m \u001b[38;5;28mprint\u001b[39m(s_nr)\n",
      "Cell \u001b[0;32mIn [8], line 6\u001b[0m, in \u001b[0;36mnewton_raphson\u001b[0;34m(f, x0, c, tol, max_iter)\u001b[0m\n\u001b[1;32m      4\u001b[0m \u001b[38;5;28;01mfor\u001b[39;00m _ \u001b[38;5;129;01min\u001b[39;00m \u001b[38;5;28mrange\u001b[39m(max_iter):\n\u001b[1;32m      5\u001b[0m     k \u001b[38;5;241m+\u001b[39m\u001b[38;5;241m=\u001b[39m \u001b[38;5;241m1\u001b[39m\n\u001b[0;32m----> 6\u001b[0m     fx, dfx \u001b[38;5;241m=\u001b[39m \u001b[43mf\u001b[49m\u001b[43m(\u001b[49m\u001b[43mx0\u001b[49m\u001b[43m)\u001b[49m\n\u001b[1;32m      8\u001b[0m     fx \u001b[38;5;241m=\u001b[39m fx \u001b[38;5;241m-\u001b[39m c\n\u001b[1;32m     10\u001b[0m     \u001b[38;5;28;01mif\u001b[39;00m \u001b[38;5;28mabs\u001b[39m(fx) \u001b[38;5;241m<\u001b[39m tol:\n",
      "Cell \u001b[0;32mIn [28], line 5\u001b[0m, in \u001b[0;36m<lambda>\u001b[0;34m(s)\u001b[0m\n\u001b[1;32m      3\u001b[0m a, b \u001b[38;5;241m=\u001b[39m itp_single_eval(ff, a\u001b[38;5;241m=\u001b[39ma, b\u001b[38;5;241m=\u001b[39mb, tol\u001b[38;5;241m=\u001b[39m\u001b[38;5;241m0.01\u001b[39m)\n\u001b[1;32m      4\u001b[0m \u001b[38;5;66;03m#a, b = itp_optimized(ff, a=a, b=b, tol=0.01, max_iter=100)\u001b[39;00m\n\u001b[0;32m----> 5\u001b[0m df \u001b[38;5;241m=\u001b[39m \u001b[38;5;28;01mlambda\u001b[39;00m s : \u001b[43mkernel2\u001b[49m\u001b[38;5;241;43m.\u001b[39;49m\u001b[43mpairwise_norm\u001b[49m(x, s)\n\u001b[1;32m      6\u001b[0m b_nr, s_nr, k_nr \u001b[38;5;241m=\u001b[39m newton_raphson(df, (a \u001b[38;5;241m+\u001b[39m b) \u001b[38;5;241m/\u001b[39m \u001b[38;5;241m2\u001b[39m, c, tol\u001b[38;5;241m=\u001b[39m\u001b[38;5;241m1e-7\u001b[39m, max_iter\u001b[38;5;241m=\u001b[39m\u001b[38;5;241m200\u001b[39m)\n\u001b[1;32m      7\u001b[0m \u001b[38;5;28mprint\u001b[39m(b_nr)\n",
      "\u001b[0;31mAttributeError\u001b[0m: 'RobustSigPDE' object has no attribute 'pairwise_norm'"
     ]
    }
   ],
   "source": [
    "a = torch.tensor([0], device=x.device, dtype=x.dtype)\n",
    "b = torch.tensor([1], device=x.device, dtype=x.dtype)\n",
    "a, b = itp_single_eval(ff, a=a, b=b, tol=0.01)\n",
    "#a, b = itp_optimized(ff, a=a, b=b, tol=0.01, max_iter=100)\n",
    "df = lambda s : kernel2.pairwise_norm(x, s)\n",
    "b_nr, s_nr, k_nr = newton_raphson(df, (a + b) / 2, c, tol=1e-7, max_iter=200)\n",
    "print(b_nr)\n",
    "print(s_nr)\n",
    "print(k_nr)"
   ]
  },
  {
   "cell_type": "code",
   "execution_count": 68,
   "metadata": {},
   "outputs": [
    {
     "name": "stdout",
     "output_type": "stream",
     "text": [
      "tensor([1.7421e-10], device='cuda:0', dtype=torch.float64)\n",
      "tensor([-6.3408e-11], device='cuda:0', dtype=torch.float64)\n"
     ]
    }
   ],
   "source": [
    "print(kernel.pairwise(x, x_scale = b_secant) - c)\n",
    "print(kernel.pairwise(x, x_scale = b_nr) - c)"
   ]
  }
 ],
 "metadata": {
  "kernelspec": {
   "display_name": "Python 3",
   "language": "python",
   "name": "python3"
  },
  "language_info": {
   "codemirror_mode": {
    "name": "ipython",
    "version": 3
   },
   "file_extension": ".py",
   "mimetype": "text/x-python",
   "name": "python",
   "nbconvert_exporter": "python",
   "pygments_lexer": "ipython3",
   "version": "3.9.20"
  }
 },
 "nbformat": 4,
 "nbformat_minor": 2
}
