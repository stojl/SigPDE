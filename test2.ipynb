{
 "cells": [
  {
   "cell_type": "code",
   "execution_count": 1,
   "metadata": {},
   "outputs": [],
   "source": [
    "import sigpde.torch as sig\n",
    "import torch\n",
    "import math\n",
    "from samplers import *\n",
    "device = torch.device('cuda:0')"
   ]
  },
  {
   "cell_type": "code",
   "execution_count": 4,
   "metadata": {},
   "outputs": [],
   "source": [
    "kernel = sig.RobustSigPDE(sig.kernels.LinearKernel(), 1)"
   ]
  },
  {
   "cell_type": "code",
   "execution_count": 2,
   "metadata": {},
   "outputs": [],
   "source": [
    "x = generate(8, 512, 50, device=device)\n",
    "y = generate(4, 512, 50, device=device)\n",
    "x = NonLinearSDE.sample(8, theta=1.5, thin=1)\n",
    "z, w = sample(8)\n",
    "z = add_time(z)\n",
    "w = add_time(w)\n",
    "y = add_time(y)"
   ]
  },
  {
   "cell_type": "code",
   "execution_count": 3,
   "metadata": {},
   "outputs": [],
   "source": [
    "x, y = NonLinearSDE.sample(n=8, theta=1.5, thin=1)\n",
    "x = x\n",
    "x = add_time(x)\n",
    "y = add_time(y)"
   ]
  },
  {
   "cell_type": "code",
   "execution_count": 8,
   "metadata": {},
   "outputs": [
    {
     "data": {
      "text/plain": [
       "tensor([[1.5687, 1.3394, 1.4185, 1.3611, 1.4439, 1.5328, 1.3100, 1.3527],\n",
       "        [1.3394, 1.5784, 1.1883, 1.3075, 1.2312, 1.2962, 1.5830, 1.4677],\n",
       "        [1.4185, 1.1883, 1.4928, 1.4543, 1.4818, 1.4651, 1.1776, 1.3452],\n",
       "        [1.3611, 1.3075, 1.4543, 1.5422, 1.4484, 1.4230, 1.3165, 1.4723],\n",
       "        [1.4439, 1.2312, 1.4818, 1.4484, 1.4781, 1.4778, 1.2187, 1.3628],\n",
       "        [1.5328, 1.2962, 1.4651, 1.4230, 1.4778, 1.5365, 1.2747, 1.3727],\n",
       "        [1.3100, 1.5830, 1.1776, 1.3165, 1.2187, 1.2747, 1.5927, 1.4792],\n",
       "        [1.3527, 1.4677, 1.3452, 1.4723, 1.3628, 1.3727, 1.4792, 1.5175]],\n",
       "       device='cuda:0', dtype=torch.float64)"
      ]
     },
     "execution_count": 8,
     "metadata": {},
     "output_type": "execute_result"
    }
   ],
   "source": [
    "kernel.gram(x)"
   ]
  }
 ],
 "metadata": {
  "kernelspec": {
   "display_name": "Python 3",
   "language": "python",
   "name": "python3"
  },
  "language_info": {
   "codemirror_mode": {
    "name": "ipython",
    "version": 3
   },
   "file_extension": ".py",
   "mimetype": "text/x-python",
   "name": "python",
   "nbconvert_exporter": "python",
   "pygments_lexer": "ipython3",
   "version": "3.9.20"
  }
 },
 "nbformat": 4,
 "nbformat_minor": 2
}
