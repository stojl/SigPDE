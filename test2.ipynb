{
 "cells": [
  {
   "cell_type": "code",
   "execution_count": 1,
   "metadata": {},
   "outputs": [],
   "source": [
    "import sigpde.torch as sig\n",
    "import torch\n",
    "import math\n",
    "device = torch.device('cuda:0')"
   ]
  },
  {
   "cell_type": "code",
   "execution_count": 2,
   "metadata": {},
   "outputs": [],
   "source": [
    "def sample(n, rho=1, scale=8, T=0.5, start=0, stop=1, dt=0.005, randgrid = 30, thin=0, device=torch.device('cuda:0'), dtype=torch.float64):\n",
    "        l = math.ceil((stop - start) / dt) + 1\n",
    "        \n",
    "        ts = torch.linspace(0, 1, l, device=device, dtype=dtype)\n",
    "        \n",
    "        b1 = math.sqrt(2 / T) * torch.sin(4 * torch.pi * ts / T)\n",
    "        b2 = math.sqrt(2 / T) * torch.cos(6 * torch.pi * ts / T)\n",
    "        c = torch.randn((n, 3), dtype=dtype, device=device)\n",
    "       \n",
    "        b1 = (b1 * c[:, 1].view(n, 1))\n",
    "        b2 = (b2 * c[:, 2].view(n, 1))\n",
    "        \n",
    "        x = (b1 + b2 + c[:, 0].view(n, 1))\n",
    "       \n",
    "        c1 = (0.75 - 0.25) * torch.rand((n, 2), device=device, dtype=dtype) + 0.25\n",
    "        \n",
    "        i1 = (ts - c1[:,0].view(n, 1, 1)).view(n, -1)**2\n",
    "        i2 = (ts - c1[:,1].view(n, 1, 1)).view(n, -1)**2\n",
    "        \n",
    "        zero_column = torch.zeros(n, 1, device=device, dtype=dtype)\n",
    "        x1 = torch.cat((zero_column, (x[:,range(l-1)] * dt).cumsum(dim=1)), dim=1) * i2\n",
    "        x2 = torch.cat((zero_column, (x[:,range(l-1)] * i1[:,range(l-1)] * dt).cumsum(dim=1)), dim=1)\n",
    "        \n",
    "        y = rho * (x2 - x1) * scale\n",
    "        y = y + torch.randn(y.shape, device=device, dtype=dtype)\n",
    "        x = x + torch.randn(x.shape, device=device, dtype=dtype)\n",
    "        \n",
    "        return x.view(n, l, 1)[:, range(0, l, 2**thin),:], y.view(n, l, 1)[:, range(0, l, 2**thin),:]"
   ]
  },
  {
   "cell_type": "code",
   "execution_count": 21,
   "metadata": {},
   "outputs": [],
   "source": [
    "def generate(batch_size, length, dimension, device = torch.device('cpu')):\n",
    "  random_walks = torch.randn(batch_size, length, dimension, dtype = torch.double, device = device) / math.sqrt(length)\n",
    "  start = torch.zeros([batch_size, 1, dimension], device=device, dtype=torch.double)\n",
    "  random_walks = torch.cat((start, random_walks), dim=1)\n",
    "  random_walks = torch.cumsum(random_walks, dim=1)\n",
    "  return random_walks\n",
    "\n",
    "def add_time(x, start=0, stop=1):\n",
    "    device = x.device\n",
    "    dtype = x.dtype\n",
    "\n",
    "    l = x.shape[1]\n",
    "\n",
    "    t = torch.linspace(start, stop, l, device=device, dtype=dtype)\n",
    "    t = t.unsqueeze(0).unsqueeze(-1)\n",
    "    return torch.cat((x, t.expand(x.shape[0], x.shape[1], 1)), dim=-1)\n",
    "\n",
    "def variation(x):\n",
    "    diffs = x[:, 1:, :] - x[:, :-1, :]\n",
    "    euclidean_norms = torch.norm(diffs, p=2, dim=-1)\n",
    "    return euclidean_norms.sum(dim=-1)\n",
    "\n",
    "def var_norm(x):\n",
    "    return x / variation(x).view(x.shape[0], 1, 1).sqrt()\n",
    "\n",
    "def norm(x):\n",
    "    return x.pow(2).sum(dim=2).sqrt().max(dim=1).values\n",
    "\n",
    "def std_norm(x):\n",
    "    return 2 - 1 / (1 + x.log())\n",
    "\n",
    "def time_norm(x, time=True):\n",
    "    if time:\n",
    "        x = add_time(x)\n",
    "    return x / x.pow(2).sum(dim=2).sqrt().max(dim=1).values.view(x.shape[0], 1, 1)"
   ]
  },
  {
   "cell_type": "code",
   "execution_count": 4,
   "metadata": {},
   "outputs": [],
   "source": [
    "kernel = sig.SigPDE(sig.kernels.LinearKernel(), 2)\n",
    "kernel2 = sig.RobustSigPDE(sig.kernels.LinearKernel(), 2)"
   ]
  },
  {
   "cell_type": "code",
   "execution_count": 23,
   "metadata": {},
   "outputs": [],
   "source": [
    "x = generate(30, 512, 50, device=device)\n",
    "y = generate(1, 512, 50, device=device)\n",
    "z, w = sample(30)"
   ]
  },
  {
   "cell_type": "code",
   "execution_count": 31,
   "metadata": {},
   "outputs": [
    {
     "name": "stdout",
     "output_type": "stream",
     "text": [
      "tensor([1.4604, 1.4138, 1.0275, 1.0753, 1.0407, 1.0538, 1.3269, 1.1372, 1.0367,\n",
      "        1.1369, 1.1123, 1.3336, 1.3742, 1.0676, 1.2107, 1.0324, 1.0700, 1.0197,\n",
      "        1.0843, 1.0520, 1.0714, 1.0196, 1.0922, 1.1803, 1.1995, 1.0496, 1.0226,\n",
      "        1.0356, 1.0638, 1.0626], device='cuda:0', dtype=torch.float64)\n"
     ]
    }
   ],
   "source": [
    "print(kernel.pairwise(time_norm(z)))"
   ]
  },
  {
   "cell_type": "code",
   "execution_count": null,
   "metadata": {},
   "outputs": [],
   "source": []
  },
  {
   "cell_type": "code",
   "execution_count": 33,
   "metadata": {},
   "outputs": [
    {
     "data": {
      "text/plain": [
       "tensor([1.0000, 1.0000, 1.9900, 1.0000, 1.9855, 1.0000, 1.9885, 1.0000, 1.9915,\n",
       "        1.0000, 1.9482, 1.9750, 1.9892, 1.0000, 1.9848, 1.0000, 1.0000, 1.9907,\n",
       "        1.0000, 1.9876, 1.9699, 1.0000, 1.0000, 1.0000, 1.9784, 1.0000, 1.0000,\n",
       "        1.0000, 1.0000, 1.0000], device='cuda:0', dtype=torch.float64)"
      ]
     },
     "execution_count": 33,
     "metadata": {},
     "output_type": "execute_result"
    }
   ],
   "source": [
    "kernel2.pairwise(add_time(z), tol=0.01)"
   ]
  },
  {
   "cell_type": "code",
   "execution_count": null,
   "metadata": {},
   "outputs": [],
   "source": []
  },
  {
   "cell_type": "code",
   "execution_count": 30,
   "metadata": {},
   "outputs": [
    {
     "name": "stdout",
     "output_type": "stream",
     "text": [
      "tensor([1.9805, 1.9798, 1.9801, 1.9795, 1.9802, 1.9799, 1.9802, 1.9785, 1.9791,\n",
      "        1.9803, 1.9788, 1.9798, 1.9798, 1.9789, 1.9795, 1.9805, 1.9786, 1.9802,\n",
      "        1.9797, 1.9800, 1.9798, 1.9805, 1.9796, 1.9787, 1.9800, 1.9798, 1.9786,\n",
      "        1.9788, 1.9799, 1.9801], device='cuda:0', dtype=torch.float64)\n"
     ]
    }
   ],
   "source": [
    "print(kernel2.pairwise(x))"
   ]
  }
 ],
 "metadata": {
  "kernelspec": {
   "display_name": "Python 3",
   "language": "python",
   "name": "python3"
  },
  "language_info": {
   "codemirror_mode": {
    "name": "ipython",
    "version": 3
   },
   "file_extension": ".py",
   "mimetype": "text/x-python",
   "name": "python",
   "nbconvert_exporter": "python",
   "pygments_lexer": "ipython3",
   "version": "3.9.20"
  }
 },
 "nbformat": 4,
 "nbformat_minor": 2
}
