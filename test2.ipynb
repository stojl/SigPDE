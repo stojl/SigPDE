{
 "cells": [
  {
   "cell_type": "code",
   "execution_count": 1,
   "metadata": {},
   "outputs": [],
   "source": [
    "import sigpde.torch as sig\n",
    "import torch\n",
    "import math\n",
    "from samplers import *\n",
    "device = torch.device('cuda:0')"
   ]
  },
  {
   "cell_type": "code",
   "execution_count": 2,
   "metadata": {},
   "outputs": [],
   "source": [
    "kernel = sig.SigPDE(sig.kernels.LinearKernel(), 1)\n",
    "kernel2 = sig.RobustSigPDE(sig.kernels.LinearKernel(), 1)"
   ]
  },
  {
   "cell_type": "code",
   "execution_count": 12,
   "metadata": {},
   "outputs": [],
   "source": [
    "x = generate(8, 512, 50, device=device)\n",
    "y = generate(4, 512, 50, device=device)\n",
    "z, w = sample(8)\n",
    "z = add_time(z)\n",
    "w = add_time(w)\n",
    "x = add_time(x)\n",
    "y = add_time(y)"
   ]
  }
 ],
 "metadata": {
  "kernelspec": {
   "display_name": "Python 3",
   "language": "python",
   "name": "python3"
  },
  "language_info": {
   "codemirror_mode": {
    "name": "ipython",
    "version": 3
   },
   "file_extension": ".py",
   "mimetype": "text/x-python",
   "name": "python",
   "nbconvert_exporter": "python",
   "pygments_lexer": "ipython3",
   "version": "3.9.20"
  }
 },
 "nbformat": 4,
 "nbformat_minor": 2
}
